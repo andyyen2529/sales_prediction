{
 "cells": [
  {
   "cell_type": "markdown",
   "metadata": {},
   "source": [
    "# EDA+資料處理(到資料合併的步驟)"
   ]
  },
  {
   "cell_type": "markdown",
   "metadata": {
    "ExecuteTime": {
     "end_time": "2019-07-17T04:28:03.858645Z",
     "start_time": "2019-07-17T04:28:03.854700Z"
    }
   },
   "source": [
    "## 匯入所需的函式庫並指定之後跑神經網路所使用的GPU"
   ]
  },
  {
   "cell_type": "code",
   "execution_count": null,
   "metadata": {
    "ExecuteTime": {
     "end_time": "2019-08-03T15:17:37.973463Z",
     "start_time": "2019-08-03T15:17:36.874785Z"
    }
   },
   "outputs": [],
   "source": [
    "import pandas as pd\n",
    "import numpy as np\n",
    "from keras.models import Sequential\n",
    "from keras.layers import Dense, Dropout, Activation, Flatten, LSTM, TimeDistributed, RepeatVector, GRU\n",
    "from keras.layers.normalization import BatchNormalization\n",
    "from keras import optimizers\n",
    "from keras.callbacks import EarlyStopping, ModelCheckpoint\n",
    "import matplotlib.pyplot as plt\n",
    "from sklearn.model_selection import StratifiedKFold, KFold\n",
    "from sklearn import preprocessing\n",
    "from sklearn.cluster import KMeans\n",
    "import time\n",
    "import os\n",
    "os.environ[\"CUDA_VISIBLE_DEVICES\"] = \"0\""
   ]
  },
  {
   "cell_type": "markdown",
   "metadata": {},
   "source": [
    "## 系統相關設定"
   ]
  },
  {
   "cell_type": "code",
   "execution_count": null,
   "metadata": {
    "ExecuteTime": {
     "end_time": "2019-08-03T15:17:39.412479Z",
     "start_time": "2019-08-03T15:17:39.408329Z"
    }
   },
   "outputs": [],
   "source": [
    "# 設定dataframe在輸出時可以看到所有的欄位\n",
    "pd.set_option('display.max_columns', None)"
   ]
  },
  {
   "cell_type": "markdown",
   "metadata": {},
   "source": [
    "## 從資料庫中取得原始資料集(包含所有的欄位)"
   ]
  },
  {
   "cell_type": "code",
   "execution_count": null,
   "metadata": {
    "ExecuteTime": {
     "end_time": "2019-07-28T07:50:26.246584Z",
     "start_time": "2019-07-28T07:48:45.222792Z"
    }
   },
   "outputs": [],
   "source": [
    "import pymysql.cursors\n",
    "connection = pymysql.connect(host='140.119.9.88',\n",
    "                             user='isvmsdata',\n",
    "                             password='dataisvms2018',\n",
    "                             port = 3306,\n",
    "                             db='test_cvm',\n",
    "                             charset='utf8mb4',\n",
    "                             cursorclass=pymysql.cursors.DictCursor)\n",
    "df_mysql = pd.read_sql(\"SELECT * FROM avm_table\", con=connection)\n",
    "connection.close()"
   ]
  },
  {
   "cell_type": "code",
   "execution_count": null,
   "metadata": {
    "ExecuteTime": {
     "end_time": "2019-07-28T07:51:01.624212Z",
     "start_time": "2019-07-28T07:51:01.620230Z"
    }
   },
   "outputs": [],
   "source": [
    "data = df_mysql # 保留df_mysql作為原始資料"
   ]
  },
  {
   "cell_type": "markdown",
   "metadata": {},
   "source": [
    "## 遺漏值處理 - 把沒有產品名稱的資料去除"
   ]
  },
  {
   "cell_type": "code",
   "execution_count": null,
   "metadata": {
    "ExecuteTime": {
     "end_time": "2019-07-28T07:51:06.928721Z",
     "start_time": "2019-07-28T07:51:04.637576Z"
    },
    "scrolled": true
   },
   "outputs": [],
   "source": [
    "#print(df_mysql.isnull().sum())\n",
    "data = data.dropna(subset=['產品名稱'])\n",
    "print(data.isnull().sum())\n",
    "print(\"總共清除的資料筆數：\",len(df_mysql)-len(data))\n",
    "print(\"剩下的資料筆數：\", len(data))"
   ]
  },
  {
   "cell_type": "code",
   "execution_count": null,
   "metadata": {
    "ExecuteTime": {
     "end_time": "2019-07-21T06:05:15.543149Z",
     "start_time": "2019-07-21T06:05:15.317Z"
    }
   },
   "outputs": [],
   "source": [
    "#df_mysql[df_mysql['單位'].isnull()]"
   ]
  },
  {
   "cell_type": "markdown",
   "metadata": {},
   "source": [
    "## 探索性分析 - 第一部分 (資料合併之前)"
   ]
  },
  {
   "cell_type": "code",
   "execution_count": null,
   "metadata": {
    "ExecuteTime": {
     "end_time": "2019-07-21T13:49:27.163252Z",
     "start_time": "2019-07-21T13:49:27.159453Z"
    }
   },
   "outputs": [],
   "source": [
    "eda_data = data"
   ]
  },
  {
   "cell_type": "markdown",
   "metadata": {},
   "source": [
    "### (1) 各產品實銷貨量分布(不計實銷貨量為負的產品) (面積圖)"
   ]
  },
  {
   "cell_type": "code",
   "execution_count": null,
   "metadata": {
    "ExecuteTime": {
     "end_time": "2019-07-21T13:49:32.509584Z",
     "start_time": "2019-07-21T13:49:31.390726Z"
    }
   },
   "outputs": [],
   "source": [
    "eda_data_groupbyProduct = eda_data.groupby(['產品名稱']).sum()[\"實銷貨量\"]\n",
    "eda_data_groupbyProduct = eda_data_groupbyProduct.sort_values(ascending=False).reset_index()['實銷貨量']\n",
    "eda_data_groupbyProduct = eda_data_groupbyProduct[eda_data_groupbyProduct >= 0]\n",
    "#eda_data_groupbyProduct.head()"
   ]
  },
  {
   "cell_type": "code",
   "execution_count": null,
   "metadata": {
    "ExecuteTime": {
     "end_time": "2019-07-21T13:49:33.727494Z",
     "start_time": "2019-07-21T13:49:33.502915Z"
    }
   },
   "outputs": [],
   "source": [
    "fig, ax = plt.subplots(figsize = (15,7))\n",
    "plt.ticklabel_format(style='plain')\n",
    "eda_data_groupbyProduct.plot.area()\n",
    "plt.rcParams['font.sans-serif'] = ['simhei']\n",
    "plt.tick_params(\n",
    "    axis = 'x',          # changes apply to the x-axis\n",
    "    which = 'both',      # both major and minor ticks are affected\n",
    "    bottom = False,      # ticks along the bottom edge are off\n",
    "    top = False,         # ticks along the top edge are off\n",
    "    labelbottom = False) \n",
    "plt.yticks(fontsize = 16)\n",
    "plt.ylabel('實銷貨量', fontsize = 20)\n",
    "ax.set_title(\"各產品實銷貨量分布(不計實銷貨量為負的產品)(面積圖)\", fontsize = 24)"
   ]
  },
  {
   "cell_type": "markdown",
   "metadata": {},
   "source": [
    "### (2) 各月份整體產品實銷貨量(折線圖)"
   ]
  },
  {
   "cell_type": "code",
   "execution_count": null,
   "metadata": {
    "ExecuteTime": {
     "end_time": "2019-07-21T13:49:59.201144Z",
     "start_time": "2019-07-21T13:49:36.563208Z"
    }
   },
   "outputs": [],
   "source": [
    "# 新增「年/月」的欄位\n",
    "eda_data['年/月'] = eda_data.apply(lambda x: str(x['年']) + \"/\" + \"%02d\"%(x['月']), axis=1)"
   ]
  },
  {
   "cell_type": "code",
   "execution_count": null,
   "metadata": {
    "ExecuteTime": {
     "end_time": "2019-07-21T13:50:02.672225Z",
     "start_time": "2019-07-21T13:50:01.704734Z"
    }
   },
   "outputs": [],
   "source": [
    "eda_data_groupbyDate = eda_data.groupby(['年/月'])[\"實銷貨量\"].sum()\n",
    "#eda_data_groupbyDate.head()"
   ]
  },
  {
   "cell_type": "code",
   "execution_count": null,
   "metadata": {
    "ExecuteTime": {
     "end_time": "2019-07-21T13:50:04.153980Z",
     "start_time": "2019-07-21T13:50:03.796642Z"
    }
   },
   "outputs": [],
   "source": [
    "fig, ax = plt.subplots(figsize=(18,7))\n",
    "plt.plot(eda_data_groupbyDate.index, eda_data_groupbyDate)\n",
    "plt.rcParams['font.sans-serif'] = ['simhei']\n",
    "#plt.legend(loc='upper right', fontsize=16)\n",
    "plt.xlabel('年/月', fontsize=16)\n",
    "plt.xticks(rotation=60, fontsize=14)\n",
    "plt.ylabel('實銷貨量', fontsize=16)\n",
    "plt.yticks(fontsize=14)\n",
    "plt.axvline(x=12, color='r', linestyle='--')\n",
    "plt.axvline(x=24, color='r', linestyle='--')\n",
    "plt.axvline(x=36, color='r', linestyle='--')\n",
    "ax.set_title(\"各月份整體產品實銷貨量(折線圖)\", fontsize=24)\n",
    "plt.show()"
   ]
  },
  {
   "cell_type": "markdown",
   "metadata": {},
   "source": [
    "### (3) 各部門整體產品實銷貨比例(圓餅圖)"
   ]
  },
  {
   "cell_type": "code",
   "execution_count": null,
   "metadata": {
    "ExecuteTime": {
     "end_time": "2019-07-21T13:50:06.861878Z",
     "start_time": "2019-07-21T13:50:06.683905Z"
    }
   },
   "outputs": [],
   "source": [
    "eda_data_groupbyDepartment = eda_data.groupby([\"部門名稱\"])[\"實銷貨量\"].sum()"
   ]
  },
  {
   "cell_type": "code",
   "execution_count": null,
   "metadata": {
    "ExecuteTime": {
     "end_time": "2019-07-21T13:50:08.211893Z",
     "start_time": "2019-07-21T13:50:08.202414Z"
    }
   },
   "outputs": [],
   "source": [
    "# 把比例過低的部門(廠務部、行銷部、生管課)合併成「其他部門」\n",
    "eda_data_groupbyDepartment2 = eda_data_groupbyDepartment.sort_values(ascending=False)[:9].copy()\n",
    "eda_data_groupbyDepartment2.loc['其他部門(廠務部+行銷部+生管課)'] = (\n",
    "    eda_data_groupbyDepartment.sort_values(ascending=False)[9:].sum()\n",
    ")\n",
    "#eda_data_groupbyDepartment2"
   ]
  },
  {
   "cell_type": "code",
   "execution_count": null,
   "metadata": {
    "ExecuteTime": {
     "end_time": "2019-07-21T13:50:10.032946Z",
     "start_time": "2019-07-21T13:50:09.862673Z"
    }
   },
   "outputs": [],
   "source": [
    "plt.figure(figsize=(8,11))    # 顯示圖框架大小\n",
    "\n",
    "labels =  eda_data_groupbyDepartment2.index                    # 製作圓餅圖的類別標籤\n",
    "separated = (0, 0, 0, 0, 0, 0, 0, 0.1, 0.2, 0.3)                  # 依據類別數量，分別設定要突出的區塊\n",
    "size = eda_data_groupbyDepartment2      # 製作圓餅圖的數值來源\n",
    "\n",
    "plt.pie(\n",
    "    size,                           # 數值\n",
    "    labels = labels,                # 標籤\n",
    "    autopct = \"%.1f%%\",            # 將數值百分比並留到小數點一位           # explode 設定分隔的區塊位置\n",
    "    pctdistance = 0.6,              # 數字距圓心的距離\n",
    "    textprops = {\"fontsize\" : 20},  # 文字大小\n",
    "    startangle=-270,\n",
    "    explode=separated\n",
    ")\n",
    " \n",
    "plt.axis('equal')                                          # 使圓餅圖比例相等\n",
    "plt.title(\"各部門整體產品實銷貨比例(圓餅圖)\", {\"fontsize\" : 24})  # 設定標題及其文字大小\n",
    "#plt.legend(loc = \"right\", bbox_to_anchor=(1.6, 0.5), fontsize = 20)            # 設定圖例及其位置為最佳"
   ]
  },
  {
   "cell_type": "markdown",
   "metadata": {},
   "source": [
    "### (4) 實銷貨量前五大客戶占比(圓餅圖)"
   ]
  },
  {
   "cell_type": "code",
   "execution_count": null,
   "metadata": {
    "ExecuteTime": {
     "end_time": "2019-07-21T13:50:13.894145Z",
     "start_time": "2019-07-21T13:50:12.734118Z"
    }
   },
   "outputs": [],
   "source": [
    "eda_data_groupbyCustomer = eda_data.groupby(['客戶簡稱']).sum()[\"實銷貨量\"]"
   ]
  },
  {
   "cell_type": "code",
   "execution_count": null,
   "metadata": {
    "ExecuteTime": {
     "end_time": "2019-07-21T13:50:14.923787Z",
     "start_time": "2019-07-21T13:50:14.912250Z"
    }
   },
   "outputs": [],
   "source": [
    "# 把第六名後的客戶合併成「其他客戶」\n",
    "eda_data_groupbyCustomer2 = eda_data_groupbyCustomer.sort_values(ascending=False)[:5].copy()\n",
    "eda_data_groupbyCustomer2.loc['其他客戶'] = (\n",
    "    eda_data_groupbyCustomer.sort_values(ascending=False)[5:].sum()\n",
    ")\n",
    "#eda_data_groupbyCustomer2"
   ]
  },
  {
   "cell_type": "code",
   "execution_count": null,
   "metadata": {
    "ExecuteTime": {
     "end_time": "2019-07-21T13:50:16.452872Z",
     "start_time": "2019-07-21T13:50:16.329496Z"
    }
   },
   "outputs": [],
   "source": [
    "plt.figure(figsize=(8,8))    # 顯示圖框架大小\n",
    "\n",
    "labels =  eda_data_groupbyCustomer2.index                    # 製作圓餅圖的類別標籤\n",
    "separated = (0, 0, 0, 0.1, 0.2, 0)                  # 依據類別數量，分別設定要突出的區塊\n",
    "size = eda_data_groupbyCustomer2        # 製作圓餅圖的數值來源\n",
    "\n",
    "plt.pie(size,                           # 數值\n",
    "        labels = labels,                # 標籤\n",
    "        autopct = \"%.1f%%\",            # 將數值百分比並留到小數點一位           # explode 設定分隔的區塊位置\n",
    "        pctdistance = 0.6,              # 數字距圓心的距離\n",
    "        textprops = {\"fontsize\" : 20},  # 文字大小\n",
    "        startangle=-270,\n",
    "        explode=separated\n",
    "       )\n",
    " \n",
    "plt.axis('equal')                                          # 使圓餅圖比例相等\n",
    "plt.title(\"實銷貨量前五大客戶占比(圓餅圖)\", {\"fontsize\" : 24})  # 設定標題及其文字大小\n",
    "#plt.legend(loc = \"right\", bbox_to_anchor=(1.6, 0.5), fontsize = 20)            # 設定圖例及其位置為最佳"
   ]
  },
  {
   "cell_type": "markdown",
   "metadata": {
    "ExecuteTime": {
     "end_time": "2019-07-21T03:30:09.097031Z",
     "start_time": "2019-07-21T03:30:09.093355Z"
    }
   },
   "source": [
    "### --- 以下為最後沒有採用的統計圖 --- "
   ]
  },
  {
   "cell_type": "markdown",
   "metadata": {
    "ExecuteTime": {
     "end_time": "2019-07-21T03:32:59.854519Z",
     "start_time": "2019-07-21T03:32:59.851525Z"
    }
   },
   "source": [
    "### 各產品實銷貨量-TOP10(長條圖)"
   ]
  },
  {
   "cell_type": "code",
   "execution_count": null,
   "metadata": {
    "ExecuteTime": {
     "end_time": "2019-07-21T06:05:15.668240Z",
     "start_time": "2019-07-21T06:05:15.369Z"
    }
   },
   "outputs": [],
   "source": [
    "eda_data_groupbyProduct = eda_data.groupby(['產品名稱']).sum()[\"實銷貨量\"]\n",
    "eda_data_groupbyProduct.head()"
   ]
  },
  {
   "cell_type": "code",
   "execution_count": null,
   "metadata": {
    "ExecuteTime": {
     "end_time": "2019-07-21T06:05:15.669111Z",
     "start_time": "2019-07-21T06:05:15.371Z"
    }
   },
   "outputs": [],
   "source": [
    "fig, ax = plt.subplots(figsize=(15,7))\n",
    "plt.ticklabel_format(style='plain')\n",
    "eda_data_groupbyProduct.sort_values(ascending=False).iloc[:10].plot.bar()\n",
    "plt.rcParams['font.sans-serif'] = ['simhei']\n",
    "plt.xticks(rotation=45, fontsize=16)\n",
    "plt.yticks(fontsize=16)\n",
    "plt.xlabel('產品名稱', fontsize=20)\n",
    "plt.ylabel('實銷貨量', fontsize=20)\n",
    "ax.set_title(\"各產品實銷貨量-TOP10(長條圖)\", fontsize=24)\n",
    "for i, v in enumerate(eda_data_groupbyProduct.sort_values(ascending=False).iloc[:10].values):\n",
    "    ax.text(i, v, int(v), horizontalalignment='center', fontsize = 16)"
   ]
  },
  {
   "cell_type": "markdown",
   "metadata": {},
   "source": [
    "### 各業務員實銷貨量-TOP10(長條圖)"
   ]
  },
  {
   "cell_type": "code",
   "execution_count": null,
   "metadata": {
    "ExecuteTime": {
     "end_time": "2019-07-21T06:05:15.669973Z",
     "start_time": "2019-07-21T06:05:15.375Z"
    }
   },
   "outputs": [],
   "source": [
    "eda_data_groupbySalesman = eda_data.groupby(['業務員名稱']).sum()[\"實銷貨量\"]\n",
    "eda_data_groupbySalesman.head()"
   ]
  },
  {
   "cell_type": "code",
   "execution_count": null,
   "metadata": {
    "ExecuteTime": {
     "end_time": "2019-07-21T06:05:15.670886Z",
     "start_time": "2019-07-21T06:05:15.378Z"
    }
   },
   "outputs": [],
   "source": [
    "fig, ax = plt.subplots(figsize=(15,7))\n",
    "plt.ticklabel_format(style='plain')\n",
    "eda_data_groupbySalesman.sort_values(ascending=False).iloc[:10].plot.bar() # 只看前十名\n",
    "plt.rcParams['font.sans-serif'] = ['simhei']\n",
    "plt.xticks(rotation=0, fontsize=16)\n",
    "plt.yticks(fontsize=16)\n",
    "plt.xlabel('業務員名稱', fontsize=20)\n",
    "plt.ylabel('實銷貨量', fontsize=20)\n",
    "ax.set_title(\"各業務員實銷貨量-TOP10(長條圖)\", fontsize=24)\n",
    "for i, v in enumerate(eda_data_groupbySalesman.sort_values(ascending=False).iloc[:10].values):\n",
    "    ax.text(i, v, int(v), horizontalalignment='center', fontsize = 16)"
   ]
  },
  {
   "cell_type": "markdown",
   "metadata": {},
   "source": [
    "### 各單位實銷貨量(長條圖)"
   ]
  },
  {
   "cell_type": "code",
   "execution_count": null,
   "metadata": {
    "ExecuteTime": {
     "end_time": "2019-07-21T06:05:15.671745Z",
     "start_time": "2019-07-21T06:05:15.383Z"
    }
   },
   "outputs": [],
   "source": [
    "eda_data_groupbyUnit = eda_data.groupby(['單位']).sum()[\"實銷貨量\"]\n",
    "eda_data_groupbyUnit.head()"
   ]
  },
  {
   "cell_type": "code",
   "execution_count": null,
   "metadata": {
    "ExecuteTime": {
     "end_time": "2019-07-21T06:05:15.672619Z",
     "start_time": "2019-07-21T06:05:15.387Z"
    }
   },
   "outputs": [],
   "source": [
    "fig, ax = plt.subplots(figsize=(15,7))\n",
    "plt.ticklabel_format(style='plain')\n",
    "eda_data_groupbyUnit.sort_values(ascending=False).plot.bar()\n",
    "plt.rcParams['font.sans-serif'] = ['simhei']\n",
    "plt.xticks(rotation=45, fontsize=16)\n",
    "plt.yticks(fontsize=16)\n",
    "plt.xlabel('單位名稱', fontsize=20)\n",
    "plt.ylabel('實銷貨量', fontsize=20)\n",
    "ax.set_title(\"各單位實銷貨量(長條圖)\", fontsize=24)"
   ]
  },
  {
   "cell_type": "markdown",
   "metadata": {},
   "source": [
    "## 特徵工程 - 原始變數"
   ]
  },
  {
   "cell_type": "markdown",
   "metadata": {},
   "source": [
    "### (1) 把「年」、「月」欄位合併成「年/月」"
   ]
  },
  {
   "cell_type": "code",
   "execution_count": null,
   "metadata": {
    "ExecuteTime": {
     "end_time": "2019-07-28T07:51:47.729403Z",
     "start_time": "2019-07-28T07:51:23.664415Z"
    }
   },
   "outputs": [],
   "source": [
    "data['年/月'] = data.apply(lambda x: str(x['年']) + \"/\" + \"%02d\"%(x['月']), axis=1)\n",
    "data = data.drop(['年', '月'], axis = 1)"
   ]
  },
  {
   "cell_type": "markdown",
   "metadata": {},
   "source": [
    "### (2) 把非二元的類別變數轉成獨熱編碼 (目前選用的非二元的類別變數：月份、銷售單價級距1)"
   ]
  },
  {
   "cell_type": "code",
   "execution_count": null,
   "metadata": {
    "ExecuteTime": {
     "end_time": "2019-07-28T07:52:25.430921Z",
     "start_time": "2019-07-28T07:52:07.862224Z"
    }
   },
   "outputs": [],
   "source": [
    "# 新增「月份」獨熱編碼的欄位\n",
    "data['月'] = data.apply(lambda x: str(x['年/月'])[-2:], axis=1)\n",
    "month = pd.get_dummies(data[\"月\"])\n",
    "data = data.join(month)\n",
    "data = data.drop([\"月\"], axis = 1)"
   ]
  },
  {
   "cell_type": "code",
   "execution_count": null,
   "metadata": {
    "ExecuteTime": {
     "end_time": "2019-07-28T07:52:28.356947Z",
     "start_time": "2019-07-28T07:52:27.476950Z"
    }
   },
   "outputs": [],
   "source": [
    "# 新增「銷售單價級距1」獨熱編碼的欄位\n",
    "price_interval = pd.get_dummies(data[\"銷售單價級距1\"])\n",
    "data = data.join(price_interval)"
   ]
  },
  {
   "cell_type": "code",
   "execution_count": null,
   "metadata": {
    "ExecuteTime": {
     "end_time": "2019-07-28T07:52:29.876077Z",
     "start_time": "2019-07-28T07:52:29.831048Z"
    },
    "scrolled": true
   },
   "outputs": [],
   "source": [
    "data.head()"
   ]
  },
  {
   "cell_type": "markdown",
   "metadata": {},
   "source": [
    "### (3) 將原始資料集按照「產品名稱、年、月」合併，並取出之後會用到的欄位"
   ]
  },
  {
   "cell_type": "code",
   "execution_count": null,
   "metadata": {
    "ExecuteTime": {
     "end_time": "2019-07-28T07:52:45.792131Z",
     "start_time": "2019-07-28T07:52:41.507098Z"
    }
   },
   "outputs": [],
   "source": [
    "data_sum = data.groupby([\"產品名稱\", \"年/月\"]).sum()\n",
    "data_avg = data.groupby([\"產品名稱\", \"年/月\"]).mean()"
   ]
  },
  {
   "cell_type": "code",
   "execution_count": null,
   "metadata": {
    "ExecuteTime": {
     "end_time": "2019-07-28T07:52:46.844610Z",
     "start_time": "2019-07-28T07:52:46.842009Z"
    }
   },
   "outputs": [],
   "source": [
    "data_continuous = data_sum[[\"實銷貨量\", \"含稅總成本\", \"成本合計\", \"銷貨淨額\", \"淨利\", \"贈送量\", \"促銷量\"]]"
   ]
  },
  {
   "cell_type": "code",
   "execution_count": null,
   "metadata": {
    "ExecuteTime": {
     "end_time": "2019-07-28T07:52:48.676578Z",
     "start_time": "2019-07-28T07:52:48.668109Z"
    }
   },
   "outputs": [],
   "source": [
    "data_discrete = data_avg[data_avg.columns[36:]] # 01(一月)後面的所有類別變數"
   ]
  },
  {
   "cell_type": "code",
   "execution_count": null,
   "metadata": {
    "ExecuteTime": {
     "end_time": "2019-07-28T07:52:50.834305Z",
     "start_time": "2019-07-28T07:52:50.745476Z"
    },
    "scrolled": false
   },
   "outputs": [],
   "source": [
    "data_contin_discrete = data_continuous.join(data_discrete)\n",
    "data_contin_discrete.head()"
   ]
  },
  {
   "cell_type": "markdown",
   "metadata": {},
   "source": [
    "### (4) 在合併後的資料集中新增「各部門(當期該產品)實銷貨量比例」的欄位"
   ]
  },
  {
   "cell_type": "code",
   "execution_count": null,
   "metadata": {
    "ExecuteTime": {
     "end_time": "2019-07-28T07:53:09.466538Z",
     "start_time": "2019-07-28T07:53:09.074811Z"
    }
   },
   "outputs": [],
   "source": [
    "salesVolumn_groupbyDateProductDepartment = pd.DataFrame(data.groupby([\"產品名稱\", \"年/月\", \"部門名稱\"])[\"實銷貨量\"].sum())"
   ]
  },
  {
   "cell_type": "code",
   "execution_count": null,
   "metadata": {
    "ExecuteTime": {
     "end_time": "2019-07-28T07:53:11.047286Z",
     "start_time": "2019-07-28T07:53:10.838105Z"
    }
   },
   "outputs": [],
   "source": [
    "salesVolumn_groupbyDateProduct = pd.DataFrame(data.groupby([\"產品名稱\", \"年/月\"])[\"實銷貨量\"].sum())"
   ]
  },
  {
   "cell_type": "code",
   "execution_count": null,
   "metadata": {
    "ExecuteTime": {
     "end_time": "2019-07-28T07:53:12.723576Z",
     "start_time": "2019-07-28T07:53:12.671566Z"
    }
   },
   "outputs": [],
   "source": [
    "salesVolumn_merge = pd.merge(\n",
    "    salesVolumn_groupbyDateProductDepartment, \n",
    "    salesVolumn_groupbyDateProduct, \n",
    "    on = ['產品名稱', \"年/月\"], \n",
    "    how = 'left'\n",
    ")\n",
    "salesVolumn_merge['部門名稱'] = salesVolumn_groupbyDateProductDepartment.reset_index()['部門名稱'].values"
   ]
  },
  {
   "cell_type": "code",
   "execution_count": null,
   "metadata": {
    "ExecuteTime": {
     "end_time": "2019-07-28T07:53:14.952392Z",
     "start_time": "2019-07-28T07:53:14.926257Z"
    },
    "scrolled": true
   },
   "outputs": [],
   "source": [
    "salesVolumn_merge"
   ]
  },
  {
   "cell_type": "code",
   "execution_count": null,
   "metadata": {
    "ExecuteTime": {
     "end_time": "2019-07-28T07:53:17.484159Z",
     "start_time": "2019-07-28T07:53:17.467996Z"
    }
   },
   "outputs": [],
   "source": [
    "department = pd.get_dummies(salesVolumn_merge[\"部門名稱\"])\n",
    "#department.head()"
   ]
  },
  {
   "cell_type": "code",
   "execution_count": null,
   "metadata": {
    "ExecuteTime": {
     "end_time": "2019-07-28T07:53:19.565585Z",
     "start_time": "2019-07-28T07:53:19.557435Z"
    }
   },
   "outputs": [],
   "source": [
    "department[\"實銷貨量_x\"] = salesVolumn_merge[\"實銷貨量_x\"]\n",
    "department[\"實銷貨量_y\"] = salesVolumn_merge[\"實銷貨量_y\"]\n",
    "department[\"部門名稱\"] = salesVolumn_merge[\"部門名稱\"]\n",
    "department[\"部門別_實銷貨量\"] = department[\"實銷貨量_x\"] / department[\"實銷貨量_y\"]"
   ]
  },
  {
   "cell_type": "code",
   "execution_count": null,
   "metadata": {
    "ExecuteTime": {
     "end_time": "2019-07-28T07:53:21.303673Z",
     "start_time": "2019-07-28T07:53:21.294008Z"
    }
   },
   "outputs": [],
   "source": [
    "department.head()"
   ]
  },
  {
   "cell_type": "code",
   "execution_count": null,
   "metadata": {
    "ExecuteTime": {
     "end_time": "2019-07-28T07:53:25.161089Z",
     "start_time": "2019-07-28T07:53:25.147604Z"
    }
   },
   "outputs": [],
   "source": [
    "department = department.fillna(0)"
   ]
  },
  {
   "cell_type": "code",
   "execution_count": null,
   "metadata": {
    "ExecuteTime": {
     "end_time": "2019-07-28T07:53:26.790624Z",
     "start_time": "2019-07-28T07:53:26.774223Z"
    }
   },
   "outputs": [],
   "source": [
    "department_index_list = department.columns[:12]\n",
    "for i in department_index_list:\n",
    "    department[i] = department[i] * department[\"部門別_實銷貨量\"]\n",
    "department = department.reset_index()"
   ]
  },
  {
   "cell_type": "code",
   "execution_count": null,
   "metadata": {
    "ExecuteTime": {
     "end_time": "2019-07-28T07:53:29.135664Z",
     "start_time": "2019-07-28T07:53:29.096282Z"
    }
   },
   "outputs": [],
   "source": [
    "department_data = department.groupby([\"產品名稱\",\"年/月\"]).sum().drop([\"實銷貨量_x\",\"實銷貨量_y\",\"部門別_實銷貨量\"], axis = 1)"
   ]
  },
  {
   "cell_type": "code",
   "execution_count": null,
   "metadata": {
    "ExecuteTime": {
     "end_time": "2019-07-28T07:53:30.874566Z",
     "start_time": "2019-07-28T07:53:30.855937Z"
    },
    "scrolled": true
   },
   "outputs": [],
   "source": [
    "# 查看有無inf或是-inf的狀況發生\n",
    "department_data[np.isinf(department_data).any(1)]"
   ]
  },
  {
   "cell_type": "code",
   "execution_count": null,
   "metadata": {
    "ExecuteTime": {
     "end_time": "2019-07-28T07:53:33.971526Z",
     "start_time": "2019-07-28T07:53:33.962746Z"
    }
   },
   "outputs": [],
   "source": [
    "# 將出現inf或-inf的資料用0去代替\n",
    "department_data = department_data.replace([np.inf, -np.inf], 0)"
   ]
  },
  {
   "cell_type": "code",
   "execution_count": null,
   "metadata": {
    "ExecuteTime": {
     "end_time": "2019-07-28T07:53:35.894173Z",
     "start_time": "2019-07-28T07:53:35.871605Z"
    },
    "scrolled": true
   },
   "outputs": [],
   "source": [
    "# 完成各部門的實銷貨量比例\n",
    "department_data"
   ]
  },
  {
   "cell_type": "code",
   "execution_count": null,
   "metadata": {
    "ExecuteTime": {
     "end_time": "2019-07-28T07:53:42.981166Z",
     "start_time": "2019-07-28T07:53:42.941838Z"
    }
   },
   "outputs": [],
   "source": [
    "# 產品尚未在沒有該日期的資料補零的版本\n",
    "data_processd_originalVariableOnly = pd.merge(\n",
    "    data_contin_discrete, \n",
    "    department_data, \n",
    "    on = [\"產品名稱\", \"年/月\"], \n",
    "    how = \"left\")"
   ]
  },
  {
   "cell_type": "code",
   "execution_count": null,
   "metadata": {
    "ExecuteTime": {
     "end_time": "2019-07-28T07:53:45.652189Z",
     "start_time": "2019-07-28T07:53:45.569257Z"
    }
   },
   "outputs": [],
   "source": [
    "data_processd_originalVariableOnly"
   ]
  },
  {
   "cell_type": "markdown",
   "metadata": {},
   "source": [
    "### (5) 把合併後的資料集的日期補齊(每個產品要有2014/01至2017/12，共48期的資料)，如果產品在該日期沒有資料，則將所有欄位全部補0"
   ]
  },
  {
   "cell_type": "code",
   "execution_count": null,
   "metadata": {
    "ExecuteTime": {
     "end_time": "2019-07-28T08:00:48.873070Z",
     "start_time": "2019-07-28T08:00:46.952463Z"
    },
    "scrolled": true
   },
   "outputs": [],
   "source": [
    "# 建立一個包含所有「產品名稱、年、月」組合的key dataframe\n",
    "df_list = []\n",
    "product_list = data['產品名稱'].unique()\n",
    "date_list = data['年/月'].unique()\n",
    "for product in product_list:\n",
    "    df_i = {'年/月': date_list, '產品名稱':[product]*48}\n",
    "    df_i = pd.DataFrame(df_i)\n",
    "    df_list.append(df_i)\n",
    "key_productAndDate = pd.concat(df_list)"
   ]
  },
  {
   "cell_type": "code",
   "execution_count": null,
   "metadata": {
    "ExecuteTime": {
     "end_time": "2019-07-28T08:00:53.329725Z",
     "start_time": "2019-07-28T08:00:53.191197Z"
    }
   },
   "outputs": [],
   "source": [
    "data_processd_originalVariableOnly_fullDate = pd.merge(\n",
    "    key_productAndDate, data_processd_originalVariableOnly, on = [\"產品名稱\", \"年/月\"], how = \"left\"\n",
    ")\n",
    "data_processd_originalVariableOnly_fullDate = data_processd_originalVariableOnly_fullDate.fillna(0)"
   ]
  },
  {
   "cell_type": "code",
   "execution_count": null,
   "metadata": {
    "ExecuteTime": {
     "end_time": "2019-07-28T08:00:57.693657Z",
     "start_time": "2019-07-28T08:00:57.604166Z"
    }
   },
   "outputs": [],
   "source": [
    "data_processd_originalVariableOnly_fullDate"
   ]
  },
  {
   "cell_type": "markdown",
   "metadata": {},
   "source": [
    "## 特徵工程 - 外部變數"
   ]
  },
  {
   "cell_type": "markdown",
   "metadata": {},
   "source": [
    "### (1) 取得已處裡完成的外部變數資料，並合併在資料集中"
   ]
  },
  {
   "cell_type": "code",
   "execution_count": null,
   "metadata": {
    "ExecuteTime": {
     "end_time": "2019-07-28T08:01:05.664654Z",
     "start_time": "2019-07-28T08:01:05.660876Z"
    }
   },
   "outputs": [],
   "source": [
    "data_processd_fullDate = data_processd_originalVariableOnly_fullDate"
   ]
  },
  {
   "cell_type": "code",
   "execution_count": null,
   "metadata": {
    "ExecuteTime": {
     "end_time": "2019-07-28T08:01:14.563193Z",
     "start_time": "2019-07-28T08:01:14.543817Z"
    }
   },
   "outputs": [],
   "source": [
    "# 取得已處理完成的外部變數資料\n",
    "price_index = [98.25, 97.87, 98.05, 98.71, 98.86, 99.37, 99.34, 99.77, 99.72, 99.79, 98.88, 98.54, 97.33, 97.67, 97.45, 97.9, 98.14, 98.81, 98.71, 99.33, 100.01, 100.1, 99.41, 98.67, 98.12, 100.02, 99.41, 99.73, 99.35, 99.7, 99.93, 99.89, 100.35, 101.8, 101.37, 100.34, 100.32, 99.96, 99.59, 99.83, 99.94, 100.7, 100.7, 100.85, 100.84, 101.46, 101.71, 101.56]\n",
    "retail_revenue = [955, 754, 852, 860, 874, 874, 959, 925, 889, 876, 865, 980, 957, 843, 844, 817, 846, 877, 925, 941, 899, 868, 869, 962, 953, 819, 854, 859, 892, 937, 979, 1033, 919, 921, 923, 1004, 1012, 766, 914, 860, 990, 991, 939, 1012, 985, 901, 955, 997]\n",
    "\n",
    "price_index_lag1 = [97.95, 98.25, 97.87, 98.05, 98.71, 98.86, 99.37, 99.34, 99.77, 99.72, 99.79, 98.88, 98.54, 97.33, 97.67, 97.45, 97.9, 98.14, 98.81, 98.71, 99.33, 100.01, 100.1, 99.41, 98.67, 98.12, 100.02, 99.41, 99.73, 99.35, 99.7, 99.93, 99.89, 100.35, 101.8, 101.37, 100.34, 100.32, 99.96, 99.59, 99.83, 99.94, 100.7, 100.7, 100.85, 100.84, 101.46, 101.71]\n",
    "retail_revenue_lag1 = [920, 955, 754, 852, 860, 874, 874, 959, 925, 889, 876, 865, 980, 957, 843, 844, 817, 846, 877, 925, 941, 899, 868, 869, 962, 953, 819, 854, 859, 892, 937, 979, 1033, 919, 921, 923, 1004, 1012, 766, 914, 860, 990, 991, 939, 1012, 985, 901, 955]\n",
    "\n",
    "is_this_or_next_month_Chinese_New_Year = [1,1,0,0,0,0,0,0,0,0,0,0, 1,1,0,0,0,0,0,0,0,0,0,0, 1,1,0,0,0,0,0,0,0,0,0,1, 1,0,0,0,0,0,0,0,0,0,0,0]\n",
    "is_this_or_next_month_Lantern_Festival = [1,1,0,0,0,0,0,0,0,0,0,0, 0,1,1,0,0,0,0,0,0,0,0,0, 1,1,0,0,0,0,0,0,0,0,0,0, 1,1,0,0,0,0,0,0,0,0,0,0]\n",
    "is_this_or_next_month_Tomb_Sweeping_Day = [0,0,1,1,0,0,0,0,0,0,0,0, 0,0,1,1,0,0,0,0,0,0,0,0, 0,0,1,1,0,0,0,0,0,0,0,0, 0,0,1,1,0,0,0,0,0,0,0,0]\n",
    "is_this_or_next_month_Dragon_Boat_Festival = [0,0,0,0,1,1,0,0,0,0,0,0, 0,0,0,0,1,1,0,0,0,0,0,0, 0,0,0,0,1,1,0,0,0,0,0,0, 0,0,0,1,1,0,0,0,0,0,0,0]\n",
    "is_this_or_next_month_Hungry_Ghost_Festival = [0,0,0,0,0,0,1,1,0,0,0,0, 0,0,0,0,0,0,1,1,0,0,0,0, 0,0,0,0,0,0,1,1,0,0,0,0, 0,0,0,0,0,0,0,1,1,0,0,0]\n",
    "is_this_or_next_month_Moon_Festival = [0,0,0,0,0,0,0,1,1,0,0,0, 0,0,0,0,0,0,0,1,1,0,0,0, 0,0,0,0,0,0,0,1,1,0,0,0, 0,0,0,0,0,0,0,0,1,1,0,0]"
   ]
  },
  {
   "cell_type": "code",
   "execution_count": null,
   "metadata": {
    "ExecuteTime": {
     "end_time": "2019-07-28T08:01:18.319428Z",
     "start_time": "2019-07-28T08:01:18.301307Z"
    }
   },
   "outputs": [],
   "source": [
    "#price_index_full = {'物價指數':price_index * 7257}\n",
    "#retail_revenue_full = {'食品、飲料及菸草製品零售業之營業額':retail_revenue * 7257}\n",
    "price_index_lag1_full = {'物價指數_延遲一期':price_index_lag1 * 7257}\n",
    "retail_revenue_lag1_full = {'食品、飲料及菸草製品零售業之營業額_延遲一期':retail_revenue_lag1 * 7257}\n",
    "is_this_or_next_month_Chinese_New_Year_full = {'這個月或下個月是否是春節':is_this_or_next_month_Chinese_New_Year * 7257}\n",
    "is_this_or_next_month_Lantern_Festival_full = {'這個月或下個月是否是元宵節':is_this_or_next_month_Lantern_Festival * 7257}\n",
    "is_this_or_next_month_Tomb_Sweeping_Day_full = {'這個月或下個月是否是清明節':is_this_or_next_month_Tomb_Sweeping_Day * 7257}\n",
    "is_this_or_next_month_Dragon_Boat_Festival_full = {'這個月或下個月是否是端午節':is_this_or_next_month_Dragon_Boat_Festival * 7257}\n",
    "is_this_or_next_month_Hungry_Ghost_Festival_full = {'這個月或下個月是否是中元節':is_this_or_next_month_Hungry_Ghost_Festival * 7257}\n",
    "is_this_or_next_month_Moon_Festival_full = {'這個月或下個月是否是中秋節':is_this_or_next_month_Moon_Festival * 7257}"
   ]
  },
  {
   "cell_type": "code",
   "execution_count": null,
   "metadata": {
    "ExecuteTime": {
     "end_time": "2019-07-28T08:01:23.019885Z",
     "start_time": "2019-07-28T08:01:22.726379Z"
    }
   },
   "outputs": [],
   "source": [
    "#data_processd_fullDate['物價指數'] = pd.DataFrame(price_index_full)\n",
    "#data_processd_fullDate['食品、飲料及菸草製品零售業之營業額'] = pd.DataFrame(retail_revenue_full)\n",
    "data_processd_fullDate['物價指數_延遲一期'] = pd.DataFrame(price_index_lag1_full)\n",
    "data_processd_fullDate['食品、飲料及菸草製品零售業之營業額_延遲一期'] = pd.DataFrame(retail_revenue_lag1_full)\n",
    "data_processd_fullDate['這個月或下個月是否是春節'] = pd.DataFrame(is_this_or_next_month_Chinese_New_Year_full)\n",
    "data_processd_fullDate['這個月或下個月是否是元宵節'] = pd.DataFrame(is_this_or_next_month_Lantern_Festival_full)\n",
    "data_processd_fullDate['這個月或下個月是否是清明節'] = pd.DataFrame(is_this_or_next_month_Tomb_Sweeping_Day_full)\n",
    "data_processd_fullDate['這個月或下個月是否是端午節'] = pd.DataFrame(is_this_or_next_month_Dragon_Boat_Festival_full)\n",
    "data_processd_fullDate['這個月或下個月是否是中元節'] = pd.DataFrame(is_this_or_next_month_Hungry_Ghost_Festival_full)\n",
    "data_processd_fullDate['這個月或下個月是否是中秋節'] = pd.DataFrame(is_this_or_next_month_Moon_Festival_full)"
   ]
  },
  {
   "cell_type": "markdown",
   "metadata": {},
   "source": [
    "### (2) 新增「日正月營業額」的欄位 (和「食品、飲料及菸草製品零售業之營業額」搭配使用)"
   ]
  },
  {
   "cell_type": "code",
   "execution_count": null,
   "metadata": {
    "ExecuteTime": {
     "end_time": "2019-07-28T08:01:29.138582Z",
     "start_time": "2019-07-28T08:01:27.678400Z"
    },
    "scrolled": true
   },
   "outputs": [],
   "source": [
    "revenue_byMonth = data.groupby(['年/月']).sum()[\"實銷貨額_含稅\"].values.tolist()\n",
    "#revenue_byMonth"
   ]
  },
  {
   "cell_type": "code",
   "execution_count": null,
   "metadata": {
    "ExecuteTime": {
     "end_time": "2019-07-28T08:01:33.253378Z",
     "start_time": "2019-07-28T08:01:33.225005Z"
    }
   },
   "outputs": [],
   "source": [
    "revenue_byMonth_full = {'日正月營業額':revenue_byMonth * 7257}\n",
    "data_processd_fullDate['日正月營業額'] = pd.DataFrame(revenue_byMonth_full)"
   ]
  },
  {
   "cell_type": "code",
   "execution_count": null,
   "metadata": {
    "ExecuteTime": {
     "end_time": "2019-07-28T08:01:52.786483Z",
     "start_time": "2019-07-28T08:01:52.686536Z"
    },
    "scrolled": true
   },
   "outputs": [],
   "source": [
    "# 完成特徵工程的部分\n",
    "data_processd_fullDate"
   ]
  },
  {
   "cell_type": "markdown",
   "metadata": {},
   "source": [
    "## 儲存處理好的資料集，方便以後存取"
   ]
  },
  {
   "cell_type": "code",
   "execution_count": null,
   "metadata": {
    "ExecuteTime": {
     "end_time": "2019-07-28T08:02:50.138089Z",
     "start_time": "2019-07-28T08:02:50.134151Z"
    }
   },
   "outputs": [],
   "source": [
    "eda_data = data_processd_fullDate"
   ]
  },
  {
   "cell_type": "code",
   "execution_count": null,
   "metadata": {
    "ExecuteTime": {
     "end_time": "2019-07-28T08:03:14.894736Z",
     "start_time": "2019-07-28T08:03:05.008397Z"
    }
   },
   "outputs": [],
   "source": [
    "eda_data.to_csv('eda_data_0728_ver1.csv')"
   ]
  },
  {
   "cell_type": "markdown",
   "metadata": {},
   "source": [
    "## 清除部分佔記憶體空間大而且之後不會用到的變數，避免server資源消耗太多"
   ]
  },
  {
   "cell_type": "code",
   "execution_count": null,
   "metadata": {
    "ExecuteTime": {
     "end_time": "2019-07-28T07:06:24.661688Z",
     "start_time": "2019-07-28T07:06:21.897608Z"
    }
   },
   "outputs": [],
   "source": [
    "print('start')\n",
    "import sys\n",
    "for var, obj in locals().items():\n",
    "    if sys.getsizeof(obj) > 10000000:\n",
    "        print(var, sys.getsizeof(obj))"
   ]
  },
  {
   "cell_type": "code",
   "execution_count": null,
   "metadata": {
    "ExecuteTime": {
     "end_time": "2019-07-28T07:06:13.498731Z",
     "start_time": "2019-07-28T07:06:13.494694Z"
    }
   },
   "outputs": [],
   "source": [
    "#del data ,month ,price_interval ,data_sum, data_avg, data_discrete,data_contin_discrete,salesVolumn_merge,department ,data_processd_originalVariableOnly,key_productAndDate,data_processd_originalVariableOnly_fullDate\n",
    "del _, __, _26, _36, data_processd_fullDate"
   ]
  },
  {
   "cell_type": "markdown",
   "metadata": {},
   "source": [
    "## 探索性分析 - 第二部分 (資料合併之後)"
   ]
  },
  {
   "cell_type": "code",
   "execution_count": null,
   "metadata": {
    "ExecuteTime": {
     "end_time": "2019-07-28T08:03:41.166119Z",
     "start_time": "2019-07-28T08:03:41.159570Z"
    },
    "scrolled": true
   },
   "outputs": [],
   "source": [
    "list(eda_data)"
   ]
  },
  {
   "cell_type": "markdown",
   "metadata": {},
   "source": [
    "### (1) 確認補0的資料筆數佔所有資料數量的比例"
   ]
  },
  {
   "cell_type": "code",
   "execution_count": null,
   "metadata": {
    "ExecuteTime": {
     "end_time": "2019-07-23T09:47:40.019033Z",
     "start_time": "2019-07-23T09:47:39.638878Z"
    }
   },
   "outputs": [],
   "source": [
    "\"\"\"\n",
    "# 補0定義是left outer join 後數值全部補0(不是原本就有殘缺的NA補0，因為fillna後就無法分辨原始值本來就是0或因為NA才補0)\n",
    "# 目前每列 >= 52個0應該就是補0的結果(其他並不會參與補0的11個欄位，其中必定會有值的有：「產品名稱」、「年/月」、「物價指數」、\n",
    "# 「食品、飲料及菸草製品零售業之營業額」、「日正月營業額」；可能為0或1的有：「這個月或下個月是否是某某節」(共6個節日)\n",
    "# 所以63個欄位中0的數目>=52欄就是補0的資料)\n",
    "# print('rows')\n",
    "zero_count = eda_data[eda_data == 0].count(axis=1)\n",
    "zero_count_52 = zero_count[zero_count >= 52]\n",
    "print(\"補0的資料筆數佔所有資料數量的比例：\")\n",
    "print(len(zero_count_52) / 348336)\n",
    "print(\"補0的資料筆數：\", len(zero_count_52))\n",
    "print(\"348336-補0的資料筆數：{}筆。也就是left outer join前右邊DF(data_inner)的長度\".format(348336-len(zero_count_52)))\n",
    "# 實際沒有在left outer join後才補0的資料筆數應為50274，但那些資料可能就會有補0前就全為0的狀況，\n",
    "# 因為之前的步驟也有補0和把inf用0替代的狀況\n",
    "\"\"\""
   ]
  },
  {
   "cell_type": "code",
   "execution_count": null,
   "metadata": {
    "ExecuteTime": {
     "end_time": "2019-07-23T10:24:34.525711Z",
     "start_time": "2019-07-23T10:24:34.412768Z"
    }
   },
   "outputs": [],
   "source": [
    "import matplotlib.pyplot as plt\n",
    "\n",
    "size = [298062, 50274]\n",
    "labels = ['有補0', '不用補0']\n",
    "\n",
    "import matplotlib.pyplot as plt\n",
    "\n",
    "plt.figure(figsize=(8,8))    # 顯示圖框架大小\n",
    "                 # 製作圓餅圖的類別標籤\n",
    "#separated = (0, 0, 0, 0.1, 0.2, 0)                  # 依據類別數量，分別設定要突出的區塊\n",
    "plt.pie(size,                           # 數值\n",
    "        #labels = labels,                # 標籤\n",
    "        autopct = \"%.1f%%\",            # 將數值百分比並留到小數點一位           # explode 設定分隔的區塊位置\n",
    "        pctdistance = 0.6,              # 數字距圓心的距離\n",
    "        textprops = {\"fontsize\" : 28},  # 文字大小\n",
    "        startangle=-270\n",
    "        #explode=separated\n",
    "       )\n",
    " \n",
    "plt.axis('equal')                                          # 使圓餅圖比例相等\n",
    "plt.title(\"依「產品名稱」、「年/月」合併後的資料，\\n有補0和不用補0的資料比例\", {\"fontsize\" : 24})  # 設定標題及其文字大小\n",
    "plt.legend(labels, loc = \"right\", bbox_to_anchor=(1.35, 0.5), fontsize = 20)            # 設定圖例及其位置為最佳"
   ]
  },
  {
   "cell_type": "markdown",
   "metadata": {},
   "source": [
    "### (2) 整體產品各變數延遲性(X)與實銷貨量(Y)相關係數實驗(目的在於找出X和Y在t-n期是比較有相關的)"
   ]
  },
  {
   "cell_type": "code",
   "execution_count": null,
   "metadata": {
    "ExecuteTime": {
     "end_time": "2019-07-23T11:41:04.882494Z",
     "start_time": "2019-07-23T11:33:39.453901Z"
    },
    "scrolled": true
   },
   "outputs": [],
   "source": [
    "# 由於有7257項產品，想知道整體產品的延遲性，因此會對7257項產品的相關係數取平均\n",
    "for i in range(1,5):\n",
    "    print(\"延遲{}期\".format(i))\n",
    "    lag_period = i\n",
    "    gift = np.zeros(7257)          # 各產品贈送量 相關係數array\n",
    "    promotion = np.zeros(7257)     # 各產品促銷量 相關係數array\n",
    "    cost_withtax = np.zeros(7257)  # 各產品含稅總成本 相關係數array\n",
    "    profit = np.zeros(7257)        # 各產品淨利 相關係數array\n",
    "    labor_cost= np.zeros(7257)     # 各產品成本合計 相關係數array\n",
    "    sale_revenue = np.zeros(7257)  # 各產品銷貨淨額 相關係數array\n",
    "    sale_volume = np.zeros(7257)   # 各產品實銷貨量(本身) 相關係數array\n",
    "    price_index = np.zeros(7257)   # 各產品物價指數 相關係數array\n",
    "    retail = np.zeros(7257)        # 各產品食品、飲料及菸草製品零售業之營業額 相關係數array\n",
    "    sales_revenue = np.zeros(7257) # 各產品日正營業額 相關係數array\n",
    "    for idx, p_name in enumerate(eda_data[\"產品名稱\"].unique()):\n",
    "        a_product = eda_data[eda_data[\"產品名稱\"] == p_name]\n",
    "        gift_corr = np.corrcoef(a_product[\"實銷貨量\"][lag_period:], a_product[\"贈送量\"][:-lag_period])[0][1]\n",
    "        if np.isnan(gift_corr):\n",
    "            gift_corr = 0\n",
    "        gift[idx] = gift_corr\n",
    "\n",
    "        promotion_corr = np.corrcoef(a_product[\"實銷貨量\"][lag_period:], a_product[\"促銷量\"][:-lag_period])[0][1]\n",
    "        if np.isnan(promotion_corr):\n",
    "            promotion_corr = 0\n",
    "        promotion[idx] = promotion_corr\n",
    "        \n",
    "        cost_withtax_corr = np.corrcoef(a_product[\"實銷貨量\"][lag_period:], a_product[\"含稅總成本\"][:-lag_period])[0][1]\n",
    "        if np.isnan(cost_withtax_corr):\n",
    "            cost_withtax_corr = 0\n",
    "        cost_withtax[idx] = cost_withtax_corr\n",
    "        \n",
    "        profit_corr = np.corrcoef(a_product[\"實銷貨量\"][lag_period:], a_product[\"淨利\"][:-lag_period])[0][1]\n",
    "        if np.isnan(profit_corr):\n",
    "            profit_corr = 0\n",
    "        profit[idx] = profit_corr\n",
    "        \n",
    "        labor_cost_corr = np.corrcoef(a_product[\"實銷貨量\"][lag_period:], a_product[\"成本合計\"][:-lag_period])[0][1]\n",
    "        if np.isnan(labor_cost_corr):\n",
    "            labor_cost_corr = 0\n",
    "        labor_cost[idx] = labor_cost_corr\n",
    "        \n",
    "        sale_revenue_corr = np.corrcoef(a_product[\"實銷貨量\"][lag_period:], a_product[\"銷貨淨額\"][:-lag_period])[0][1]\n",
    "        if np.isnan(sale_revenue_corr):\n",
    "            sale_revenue_corr = 0\n",
    "        sale_revenue[idx] = sale_revenue_corr\n",
    "        \n",
    "        sale_volume_corr = np.corrcoef(a_product[\"實銷貨量\"][lag_period:], a_product[\"實銷貨量\"][:-lag_period])[0][1]\n",
    "        if np.isnan(sale_volume_corr):\n",
    "            sale_volume_corr = 0\n",
    "        sale_volume[idx] = sale_volume_corr\n",
    "        \n",
    "        price_index_corr = np.corrcoef(a_product[\"實銷貨量\"][lag_period:], a_product[\"物價指數\"][:-lag_period])[0][1]\n",
    "        if np.isnan(price_index_corr):\n",
    "            price_index_corr = 0\n",
    "        price_index[idx] = price_index_corr\n",
    "        \n",
    "        retail_corr = np.corrcoef(a_product[\"實銷貨量\"][lag_period:], a_product[\"食品、飲料及菸草製品零售業之營業額\"][:-lag_period])[0][1]\n",
    "        if np.isnan(retail_corr):\n",
    "            retail_corr = 0\n",
    "        retail[idx] = retail_corr\n",
    "        \n",
    "        sales_revenue_corr = np.corrcoef(a_product[\"實銷貨量\"][lag_period:], a_product[\"日正月營業額\"][:-lag_period])[0][1]\n",
    "        if np.isnan(sales_revenue_corr):\n",
    "            sales_revenue_corr = 0\n",
    "        sales_revenue[idx] = sales_revenue_corr\n",
    "        \n",
    "    print(\"贈送量 vs 實銷貨量 相關係數\")\n",
    "    print(np.mean(gift))\n",
    "    print()\n",
    "    print(\"促銷量 vs 實銷貨量 相關係數\")\n",
    "    print(np.mean(promotion))\n",
    "    print()\n",
    "    print(\"含稅總成本 vs 實銷貨量 相關係數\")\n",
    "    print(np.mean(cost_withtax))\n",
    "    print()\n",
    "    print(\"淨利 vs 實銷貨量 相關係數\")\n",
    "    print(np.mean(profit))\n",
    "    print()\n",
    "    print(\"成本合計 vs 實銷貨量 相關係數\")\n",
    "    print(np.mean(labor_cost))\n",
    "    print()\n",
    "    print(\"銷貨淨額 vs 實銷貨量 相關係數\")\n",
    "    print(np.mean(sale_revenue))\n",
    "    print()\n",
    "    print(\"實銷貨量(本身) vs 實銷貨量 相關係數\")\n",
    "    print(np.mean(sale_volume))\n",
    "    print()\n",
    "    print(\"物價指數 vs 實銷貨量 相關係數\")\n",
    "    print(np.mean(price_index))\n",
    "    print()\n",
    "    print(\"食品、飲料及菸草製品零售業之營業額 vs 實銷貨量 相關係數\")\n",
    "    print(np.mean(retail))\n",
    "    print()\n",
    "    print(\"日正月營業額 vs 實銷貨量 相關係數\")\n",
    "    print(np.mean(sales_revenue))\n",
    "    print(\"-------------------------------------------------------------------------------\")"
   ]
  },
  {
   "cell_type": "code",
   "execution_count": null,
   "metadata": {
    "ExecuteTime": {
     "end_time": "2019-07-23T11:52:50.583031Z",
     "start_time": "2019-07-23T11:45:06.343836Z"
    },
    "scrolled": true
   },
   "outputs": [],
   "source": [
    "# 各部門的實銷貨量比例 延遲實驗\n",
    "# 由於有7257項產品，想知道整體產品的延遲性，因此會對7257項產品的相關係數取平均\n",
    "# 北營所\t台中所\t宜蘭所\t廠務部\t營業一部\t營業三部\t營業五部\t營業六部\t營業四部\t生管課\t行銷部\t高雄所\n",
    "for i in range(1,5):\n",
    "    print(\"延遲{}期\".format(i))\n",
    "    lag_period = i\n",
    "    taipei = np.zeros(7257)        # 各產品贈送量 相關係數array\n",
    "    taichung = np.zeros(7257)   # 各產品促銷量 相關係數array\n",
    "    yilan = np.zeros(7257) # 各產品含稅總成本 相關係數array\n",
    "    factory = np.zeros(7257) # 各產品淨利 相關係數array\n",
    "    sales_1 = np.zeros(7257) # 各產品成本合計 相關係數array\n",
    "    sales_3 = np.zeros(7257) # 各產品銷貨淨額 相關係數array\n",
    "    sales_5 = np.zeros(7257) # 各產品實銷貨量(本身) 相關係數array\n",
    "    sales_6 = np.zeros(7257) # 各產品實銷貨量(本身) 相關係數array\n",
    "    sales_4 = np.zeros(7257) # 各產品實銷貨量(本身) 相關係數array\n",
    "    production_manage = np.zeros(7257) # 各產品實銷貨量(本身) 相關係數array\n",
    "    marketing = np.zeros(7257) # 各產品實銷貨量(本身) 相關係數array\n",
    "    kaohsiung = np.zeros(7257) # 各產品實銷貨量(本身) 相關係數array\n",
    "    for idx, p_name in enumerate(eda_data[\"產品名稱\"].unique()):\n",
    "        a_product = eda_data[eda_data[\"產品名稱\"] == p_name]\n",
    "        taipei_corr = np.corrcoef(a_product[\"實銷貨量\"][lag_period:], a_product[\"北營所\"][:-lag_period])[0][1]\n",
    "        if np.isnan(taipei_corr):\n",
    "            taipei_corr = 0\n",
    "        taipei[idx] = taipei_corr\n",
    "\n",
    "        taichung_corr = np.corrcoef(a_product[\"實銷貨量\"][lag_period:], a_product[\"台中所\"][:-lag_period])[0][1]\n",
    "        if np.isnan(taichung_corr):\n",
    "            taichung_corr = 0\n",
    "        taichung[idx] = taichung_corr\n",
    "        \n",
    "        yilan_corr = np.corrcoef(a_product[\"實銷貨量\"][lag_period:], a_product[\"宜蘭所\"][:-lag_period])[0][1]\n",
    "        if np.isnan(yilan_corr):\n",
    "            yilan_corr = 0\n",
    "        yilan[idx] = yilan_corr\n",
    "        \n",
    "        factoryt_corr = np.corrcoef(a_product[\"實銷貨量\"][lag_period:], a_product[\"廠務部\"][:-lag_period])[0][1]\n",
    "        if np.isnan(factoryt_corr):\n",
    "            factoryt_corr = 0\n",
    "        factory[idx] = factoryt_corr\n",
    "        \n",
    "        sales_1_corr = np.corrcoef(a_product[\"實銷貨量\"][lag_period:], a_product[\"營業一部\"][:-lag_period])[0][1]\n",
    "        if np.isnan(sales_1_corr):\n",
    "            sales_1_corr = 0\n",
    "        sales_1[idx] = sales_1_corr\n",
    "        \n",
    "        sales_3_corr = np.corrcoef(a_product[\"實銷貨量\"][lag_period:], a_product[\"營業三部\"][:-lag_period])[0][1]\n",
    "        if np.isnan(sales_3_corr):\n",
    "            sales_3_corr = 0\n",
    "        sales_3[idx] = sales_3_corr\n",
    "        \n",
    "        sales_5_corr = np.corrcoef(a_product[\"實銷貨量\"][lag_period:], a_product[\"營業五部\"][:-lag_period])[0][1]\n",
    "        if np.isnan(sales_5_corr):\n",
    "            sales_5_corr = 0\n",
    "        sales_5[idx] = sales_5_corr\n",
    "        \n",
    "        sales_6_corr = np.corrcoef(a_product[\"實銷貨量\"][lag_period:], a_product[\"營業六部\"][:-lag_period])[0][1]\n",
    "        if np.isnan(sales_6_corr):\n",
    "            sales_6_corr = 0\n",
    "        sales_6[idx] = sales_6_corr\n",
    "        \n",
    "        sales_4_corr = np.corrcoef(a_product[\"實銷貨量\"][lag_period:], a_product[\"營業四部\"][:-lag_period])[0][1]\n",
    "        if np.isnan(sales_4_corr):\n",
    "            sales_4_corr = 0\n",
    "        sales_4[idx] = sales_4_corr\n",
    "        \n",
    "        production_manage_corr = np.corrcoef(a_product[\"實銷貨量\"][lag_period:], a_product[\"生管課\"][:-lag_period])[0][1]\n",
    "        if np.isnan(production_manage_corr):\n",
    "            production_manage_corr = 0\n",
    "        production_manage[idx] = production_manage_corr\n",
    "        \n",
    "        marketing_corr = np.corrcoef(a_product[\"實銷貨量\"][lag_period:], a_product[\"行銷部\"][:-lag_period])[0][1]\n",
    "        if np.isnan(marketing_corr):\n",
    "            marketing_corr = 0\n",
    "        marketing[idx] = marketing_corr\n",
    "        \n",
    "        kaohsiung_corr = np.corrcoef(a_product[\"實銷貨量\"][lag_period:], a_product[\"高雄所\"][:-lag_period])[0][1]\n",
    "        if np.isnan(kaohsiung_corr):\n",
    "            kaohsiung_corr = 0\n",
    "        kaohsiung[idx] = kaohsiung_corr\n",
    "        \n",
    "    print(\"北營所 vs 實銷貨量 相關係數\")\n",
    "    print(np.mean(taipei))\n",
    "    print()\n",
    "    print(\"台中所 vs 實銷貨量 相關係數\")\n",
    "    print(np.mean(taichung))\n",
    "    print()\n",
    "    print(\"宜蘭所 vs 實銷貨量 相關係數\")\n",
    "    print(np.mean(yilan))\n",
    "    print()\n",
    "    print(\"廠務部 vs 實銷貨量 相關係數\")\n",
    "    print(np.mean(factory))\n",
    "    print()\n",
    "    print(\"營業一部 vs 實銷貨量 相關係數\")\n",
    "    print(np.mean(sales_1))\n",
    "    print()\n",
    "    print(\"營業三部 vs 實銷貨量 相關係數\")\n",
    "    print(np.mean(sales_3))\n",
    "    print()\n",
    "    print(\"營業五部 vs 實銷貨量 相關係數\")\n",
    "    print(np.mean(sales_5))\n",
    "    print()\n",
    "    print(\"營業六部 vs 實銷貨量 相關係數\")\n",
    "    print(np.mean(sales_6))\n",
    "    print()\n",
    "    print(\"營業四部 vs 實銷貨量 相關係數\")\n",
    "    print(np.mean(sales_4))\n",
    "    print()\n",
    "    print(\"生管課 vs 實銷貨量 相關係數\")\n",
    "    print(np.mean(production_manage))\n",
    "    print()\n",
    "    print(\"行銷部 vs 實銷貨量 相關係數\")\n",
    "    print(np.mean(marketing))\n",
    "    print()\n",
    "    print(\"高雄所 vs 實銷貨量 相關係數\")\n",
    "    print(np.mean(kaohsiung))\n",
    "    print()\n",
    "    print(\"-------------------------------------------------------------------------------\")"
   ]
  },
  {
   "cell_type": "markdown",
   "metadata": {},
   "source": [
    "### (3) 資料分群 (最終沒有採用，仍然保留該部分)"
   ]
  },
  {
   "cell_type": "code",
   "execution_count": null,
   "metadata": {
    "ExecuteTime": {
     "end_time": "2019-07-29T03:29:24.993898Z",
     "start_time": "2019-07-29T03:29:24.988500Z"
    }
   },
   "outputs": [],
   "source": [
    "# Flatten to 2D for clustering\n",
    "nproducts, nsamples, nweeks, nx = X_train_cluster.shape # (7257, 45, 3, 47)\n",
    "X_train_cluster = X_train_cluster.reshape((nproducts * nsamples, nweeks * nx))\n",
    "X_test_cluster = X_test_cluster.reshape((nproducts * 1, nweeks * nx))"
   ]
  },
  {
   "cell_type": "code",
   "execution_count": null,
   "metadata": {
    "ExecuteTime": {
     "end_time": "2019-07-29T03:29:36.063918Z",
     "start_time": "2019-07-29T03:29:30.618963Z"
    }
   },
   "outputs": [],
   "source": [
    "# Clustering training data into 2 clusters\n",
    "#KMeans分成兩類\n",
    "clf = KMeans(n_clusters=2)\n",
    "#開始訓練！\n",
    "clf.fit(X_train_cluster)\n",
    "#這樣就可以取得預測結果了！\n",
    "clf.labels_    #共 44 * 7257筆"
   ]
  },
  {
   "cell_type": "code",
   "execution_count": null,
   "metadata": {
    "ExecuteTime": {
     "end_time": "2019-07-29T04:43:03.232116Z",
     "start_time": "2019-07-29T04:43:02.126372Z"
    }
   },
   "outputs": [],
   "source": [
    "print(clf.labels_[:44])\n",
    "print(clf.labels_[176:220])\n",
    "print(clf.labels_[-44:])\n",
    "print(clf.labels_[220:220+44])\n",
    "print(\"看0 1 2各自有幾個\")\n",
    "print(\"0 有 %d 個\" % list(clf.labels_).count(0))\n",
    "print(\"1 有 %d 個\" % list(clf.labels_).count(1))\n",
    "print(\"2 有 %d 個\" % list(clf.labels_).count(2))\n",
    "print(len(clf.labels_))\n",
    "print(len(X_train_cluster))"
   ]
  },
  {
   "cell_type": "code",
   "execution_count": null,
   "metadata": {
    "ExecuteTime": {
     "end_time": "2019-07-29T04:43:55.571369Z",
     "start_time": "2019-07-29T04:43:55.508753Z"
    }
   },
   "outputs": [],
   "source": [
    "# Clustering testing data\n",
    "test_clf_labels = clf.predict(X_test_cluster)\n",
    "print(test_clf_labels[:44])\n",
    "print(test_clf_labels[44:88])\n",
    "print(test_clf_labels[88:132])\n",
    "print(test_clf_labels)\n",
    "print(\"看0 1 2各自有幾個\")\n",
    "print(\"0 有 %d 個\" % list(test_clf_labels).count(0))\n",
    "print(\"1 有 %d 個\" % list(test_clf_labels).count(1))\n",
    "print(\"2 有 %d 個\" % list(test_clf_labels).count(2))\n",
    "print(len(test_clf_labels))\n",
    "print(len(X_test_cluster))"
   ]
  },
  {
   "cell_type": "code",
   "execution_count": null,
   "metadata": {
    "ExecuteTime": {
     "end_time": "2019-07-29T03:32:39.888950Z",
     "start_time": "2019-07-29T03:32:39.211167Z"
    }
   },
   "outputs": [],
   "source": [
    "# Labeling\n",
    "# training data\n",
    "n_clf = 0 # n-th cluster\n",
    "n_clf_train_X = []\n",
    "n_clf_train_Y = []\n",
    "for i, product in enumerate(X_train_list):\n",
    "    for j, stack in enumerate(product):\n",
    "        if clf.labels_[i * len(X_train_list[0]) + j] == n_clf: # len(X_train_list[0]) == 44\n",
    "            n_clf_train_X.append(stack)\n",
    "            n_clf_train_Y.append(Y_train_list[i][j])\n",
    "print(np.array(n_clf_train_X).shape) # (293157, 3, 59)\n",
    "print(np.array(n_clf_train_Y).shape) # (293157, 1)"
   ]
  },
  {
   "cell_type": "code",
   "execution_count": null,
   "metadata": {
    "ExecuteTime": {
     "end_time": "2019-07-29T03:32:51.839149Z",
     "start_time": "2019-07-29T03:32:51.414423Z"
    }
   },
   "outputs": [],
   "source": [
    "# check labeling (training data)\n",
    "print(len(n_clf_train_X))\n",
    "\n",
    "# sum of n-th labels\n",
    "counter = 0\n",
    "for l in clf.labels_:\n",
    "    if l == n_clf:\n",
    "        counter += 1\n",
    "print(counter)\n",
    "print(len(clf.labels_))"
   ]
  },
  {
   "cell_type": "code",
   "execution_count": null,
   "metadata": {
    "ExecuteTime": {
     "end_time": "2019-07-29T03:32:58.874929Z",
     "start_time": "2019-07-29T03:32:58.851694Z"
    }
   },
   "outputs": [],
   "source": [
    "# Labeling\n",
    "# testing data\n",
    "n_clf = 0 # n-th cluster\n",
    "n_clf_test_X = []\n",
    "n_clf_test_Y = []\n",
    "for i, product in enumerate(X_test_list):\n",
    "    if test_clf_labels[i] == n_clf:\n",
    "        n_clf_test_X.append(product[0])\n",
    "        n_clf_test_Y.append(target[i]) # Y_test_list[i][0]\n",
    "print(np.array(n_clf_test_X).shape) # (6816, 3, 59)\n",
    "print(np.array(n_clf_test_Y).shape) # (6816, 1)"
   ]
  },
  {
   "cell_type": "code",
   "execution_count": null,
   "metadata": {
    "ExecuteTime": {
     "end_time": "2019-07-29T03:33:06.389648Z",
     "start_time": "2019-07-29T03:33:06.369066Z"
    }
   },
   "outputs": [],
   "source": [
    "# check labeling (testing data)\n",
    "print(len(n_clf_test_X))\n",
    "\n",
    "# sum of n-th labels\n",
    "counter = 0\n",
    "for l in test_clf_labels:\n",
    "    if l == n_clf:\n",
    "        counter += 1\n",
    "print(counter)\n",
    "print(len(test_clf_labels))"
   ]
  },
  {
   "cell_type": "code",
   "execution_count": null,
   "metadata": {
    "ExecuteTime": {
     "end_time": "2019-07-29T03:33:31.922899Z",
     "start_time": "2019-07-29T03:33:31.830582Z"
    }
   },
   "outputs": [],
   "source": [
    "# reshape data > model data\n",
    "n_clf_train_X = np.array(n_clf_train_X)\n",
    "n_clf_train_Y = np.array(n_clf_train_Y)\n",
    "n_clf_test_X = np.array(n_clf_test_X)\n",
    "n_clf_test_Y = np.array(n_clf_test_Y)\n",
    "\n",
    "print(n_clf_train_X.shape, n_clf_train_Y.shape)\n",
    "print(n_clf_test_X.shape, n_clf_test_Y.shape)"
   ]
  },
  {
   "cell_type": "code",
   "execution_count": null,
   "metadata": {},
   "outputs": [],
   "source": []
  },
  {
   "cell_type": "code",
   "execution_count": null,
   "metadata": {},
   "outputs": [],
   "source": [
    "import sys\n",
    "for var, obj in locals().items():\n",
    "    if sys.getsizeof(obj) > 1000000:\n",
    "        print(var, sys.getsizeof(obj))"
   ]
  },
  {
   "cell_type": "code",
   "execution_count": null,
   "metadata": {},
   "outputs": [],
   "source": [
    "del data, train, X_train_list, Y_train_list, X_test_list\n",
    "print(\"done\")"
   ]
  },
  {
   "cell_type": "markdown",
   "metadata": {},
   "source": [
    "## 爬蟲"
   ]
  },
  {
   "cell_type": "code",
   "execution_count": 1,
   "metadata": {
    "ExecuteTime": {
     "end_time": "2019-08-28T07:25:02.054633Z",
     "start_time": "2019-08-28T07:25:01.463872Z"
    }
   },
   "outputs": [],
   "source": [
    "import requests\n",
    "from lxml import html\n",
    "from bs4 import BeautifulSoup as bs"
   ]
  },
  {
   "cell_type": "code",
   "execution_count": 2,
   "metadata": {
    "ExecuteTime": {
     "end_time": "2019-08-28T07:25:04.017239Z",
     "start_time": "2019-08-28T07:25:03.975471Z"
    }
   },
   "outputs": [
    {
     "name": "stdout",
     "output_type": "stream",
     "text": [
      "\n"
     ]
    }
   ],
   "source": [
    "# 抓一般網頁的爬蟲，並未採用\n",
    "import urllib.request as req\n",
    "url = \"http://statdb.dgbas.gov.tw/pxweb/Dialog/Saveshow.asp\"\n",
    "# 建立一個 request物件，附加 request header的資訊\n",
    "request = req.Request(url, headers = {\n",
    "    \"User-Agent\":\"Mozilla/5.0 (Windows NT 10.0; Win64; x64) AppleWebKit/537.36 (KHTML, like Gecko) Chrome/75.0.3770.100 Safari/537.36\"\n",
    "    \n",
    "})\n",
    "with req.urlopen(request) as response:\n",
    "    price_data = response.read().decode(\"utf-8\")\n",
    "\n",
    "print(price_data)\n",
    "\n",
    "#解析原始碼\n",
    "\n",
    "# 查詢得到的網頁並非真實網頁，僅是資料庫產生的頁面，無法用爬蟲讀取QQ\n",
    "# 直接下載到本機端則無法在伺服器上讀取QQ"
   ]
  },
  {
   "cell_type": "code",
   "execution_count": 3,
   "metadata": {
    "ExecuteTime": {
     "end_time": "2019-08-28T07:25:11.199165Z",
     "start_time": "2019-08-28T07:25:10.919897Z"
    }
   },
   "outputs": [],
   "source": [
    "# 結合外部變數\n",
    "# 抓物價指數\n",
    "LOGIN_URL = \"https://statdb.mol.gov.tw/statis/jspProxy.aspx\"\n",
    "payload = {\n",
    "'sys':220,\n",
    "'ym':10301,\n",
    "'ymt':10612,\n",
    "'kind':21,\n",
    "'type':1,\n",
    "'funid':'q01014',\n",
    "'cycle':41,\n",
    "'outmode':0,\n",
    "'compmode':0,\n",
    "'outkind':11,\n",
    "'fld0':1,\n",
    "'rdm':'pmh7gfla',\n",
    "}\n",
    "r = requests.get(LOGIN_URL,params = payload)\n",
    "soup = bs(r.text, 'html.parser')"
   ]
  },
  {
   "cell_type": "code",
   "execution_count": 4,
   "metadata": {
    "ExecuteTime": {
     "end_time": "2019-08-28T07:25:13.902471Z",
     "start_time": "2019-08-28T07:25:13.886950Z"
    }
   },
   "outputs": [
    {
     "name": "stdout",
     "output_type": "stream",
     "text": [
      "['103年 1月', '103年 2月', '103年 3月', '103年 4月', '103年 5月', '103年 6月', '103年 7月', '103年 8月', '103年 9月', '103年 10月', '103年 11月', '103年 12月', '104年 1月', '104年 2月', '104年 3月', '104年 4月', '104年 5月', '104年 6月', '104年 7月', '104年 8月', '104年 9月', '104年 10月', '104年 11月', '104年 12月', '105年 1月', '105年 2月', '105年 3月', '105年 4月', '105年 5月', '105年 6月', '105年 7月', '105年 8月', '105年 9月', '105年 10月', '105年 11月', '105年 12月', '106年 1月', '106年 2月', '106年 3月', '106年 4月', '106年 5月', '106年 6月', '106年 7月', '106年 8月', '106年 9月', '106年 10月', '106年 11月', '106年 12月']\n",
      "[' 98.25 ', ' 97.87 ', ' 98.05 ', ' 98.71 ', ' 98.86 ', ' 99.37 ', ' 99.34 ', ' 99.77 ', ' 99.72 ', ' 99.79 ', ' 98.88 ', ' 98.54 ', ' 97.33 ', ' 97.67 ', ' 97.45 ', ' 97.90 ', ' 98.14 ', ' 98.81 ', ' 98.71 ', ' 99.33 ', ' 100.01 ', ' 100.10 ', ' 99.41 ', ' 98.67 ', ' 98.12 ', ' 100.02 ', ' 99.41 ', ' 99.73 ', ' 99.35 ', ' 99.70 ', ' 99.93 ', ' 99.89 ', ' 100.35 ', ' 101.80 ', ' 101.37 ', ' 100.34 ', ' 100.32 ', ' 99.96 ', ' 99.59 ', ' 99.83 ', ' 99.94 ', ' 100.70 ', ' 100.70 ', ' 100.85 ', ' 100.84 ', ' 101.46 ', ' 101.71 ', ' 101.56 ']\n"
     ]
    }
   ],
   "source": [
    "month_list = soup.find_all('th', class_ = 'stycode')\n",
    "price_index_list = soup.find_all('td', class_ = 'stymon stydata')\n",
    "month = []\n",
    "price = []\n",
    "for m in month_list:\n",
    "    if \" \" in m.string:\n",
    "        month.append(m.string)\n",
    "for p in price_index_list:\n",
    "    price.append(p.string)\n",
    "print(month)\n",
    "print(price)"
   ]
  },
  {
   "cell_type": "code",
   "execution_count": 12,
   "metadata": {
    "ExecuteTime": {
     "end_time": "2019-08-28T07:39:53.972101Z",
     "start_time": "2019-08-28T07:34:30.441450Z"
    },
    "collapsed": true
   },
   "outputs": [
    {
     "ename": "KeyboardInterrupt",
     "evalue": "",
     "output_type": "error",
     "traceback": [
      "\u001b[0;31m---------------------------------------------------------------------------\u001b[0m",
      "\u001b[0;31mTypeError\u001b[0m                                 Traceback (most recent call last)",
      "\u001b[0;32m~/anaconda3/envs/intern_5/lib/python3.6/site-packages/urllib3/connectionpool.py\u001b[0m in \u001b[0;36m_make_request\u001b[0;34m(self, conn, method, url, timeout, chunked, **httplib_request_kw)\u001b[0m\n\u001b[1;32m    378\u001b[0m                 \u001b[0;31m# Python 2.7, use buffering of HTTP responses\u001b[0m\u001b[0;34m\u001b[0m\u001b[0;34m\u001b[0m\u001b[0;34m\u001b[0m\u001b[0m\n\u001b[0;32m--> 379\u001b[0;31m                 \u001b[0mhttplib_response\u001b[0m \u001b[0;34m=\u001b[0m \u001b[0mconn\u001b[0m\u001b[0;34m.\u001b[0m\u001b[0mgetresponse\u001b[0m\u001b[0;34m(\u001b[0m\u001b[0mbuffering\u001b[0m\u001b[0;34m=\u001b[0m\u001b[0;32mTrue\u001b[0m\u001b[0;34m)\u001b[0m\u001b[0;34m\u001b[0m\u001b[0;34m\u001b[0m\u001b[0m\n\u001b[0m\u001b[1;32m    380\u001b[0m             \u001b[0;32mexcept\u001b[0m \u001b[0mTypeError\u001b[0m\u001b[0;34m:\u001b[0m\u001b[0;34m\u001b[0m\u001b[0;34m\u001b[0m\u001b[0m\n",
      "\u001b[0;31mTypeError\u001b[0m: getresponse() got an unexpected keyword argument 'buffering'",
      "\nDuring handling of the above exception, another exception occurred:\n",
      "\u001b[0;31mKeyboardInterrupt\u001b[0m                         Traceback (most recent call last)",
      "\u001b[0;32m<ipython-input-12-21bb4b1a0cdf>\u001b[0m in \u001b[0;36m<module>\u001b[0;34m\u001b[0m\n\u001b[1;32m     13\u001b[0m \u001b[0;34m'module5dimensionCode1'\u001b[0m\u001b[0;34m:\u001b[0m \u001b[0;34m'X10D454'\u001b[0m\u001b[0;34m\u001b[0m\u001b[0;34m\u001b[0m\u001b[0m\n\u001b[1;32m     14\u001b[0m }\n\u001b[0;32m---> 15\u001b[0;31m \u001b[0mr\u001b[0m \u001b[0;34m=\u001b[0m \u001b[0mrequests\u001b[0m\u001b[0;34m.\u001b[0m\u001b[0mpost\u001b[0m\u001b[0;34m(\u001b[0m\u001b[0mLOGIN_URL\u001b[0m\u001b[0;34m,\u001b[0m\u001b[0mparams\u001b[0m \u001b[0;34m=\u001b[0m \u001b[0mpayload\u001b[0m\u001b[0;34m)\u001b[0m\u001b[0;34m\u001b[0m\u001b[0;34m\u001b[0m\u001b[0m\n\u001b[0m\u001b[1;32m     16\u001b[0m \u001b[0msoup\u001b[0m \u001b[0;34m=\u001b[0m \u001b[0mBeautifulSoup\u001b[0m\u001b[0;34m(\u001b[0m\u001b[0mr\u001b[0m\u001b[0;34m.\u001b[0m\u001b[0mtext\u001b[0m\u001b[0;34m,\u001b[0m \u001b[0;34m'html.parser'\u001b[0m\u001b[0;34m)\u001b[0m\u001b[0;34m\u001b[0m\u001b[0;34m\u001b[0m\u001b[0m\n",
      "\u001b[0;32m~/anaconda3/envs/intern_5/lib/python3.6/site-packages/requests/api.py\u001b[0m in \u001b[0;36mpost\u001b[0;34m(url, data, json, **kwargs)\u001b[0m\n\u001b[1;32m    114\u001b[0m     \"\"\"\n\u001b[1;32m    115\u001b[0m \u001b[0;34m\u001b[0m\u001b[0m\n\u001b[0;32m--> 116\u001b[0;31m     \u001b[0;32mreturn\u001b[0m \u001b[0mrequest\u001b[0m\u001b[0;34m(\u001b[0m\u001b[0;34m'post'\u001b[0m\u001b[0;34m,\u001b[0m \u001b[0murl\u001b[0m\u001b[0;34m,\u001b[0m \u001b[0mdata\u001b[0m\u001b[0;34m=\u001b[0m\u001b[0mdata\u001b[0m\u001b[0;34m,\u001b[0m \u001b[0mjson\u001b[0m\u001b[0;34m=\u001b[0m\u001b[0mjson\u001b[0m\u001b[0;34m,\u001b[0m \u001b[0;34m**\u001b[0m\u001b[0mkwargs\u001b[0m\u001b[0;34m)\u001b[0m\u001b[0;34m\u001b[0m\u001b[0;34m\u001b[0m\u001b[0m\n\u001b[0m\u001b[1;32m    117\u001b[0m \u001b[0;34m\u001b[0m\u001b[0m\n\u001b[1;32m    118\u001b[0m \u001b[0;34m\u001b[0m\u001b[0m\n",
      "\u001b[0;32m~/anaconda3/envs/intern_5/lib/python3.6/site-packages/requests/api.py\u001b[0m in \u001b[0;36mrequest\u001b[0;34m(method, url, **kwargs)\u001b[0m\n\u001b[1;32m     58\u001b[0m     \u001b[0;31m# cases, and look like a memory leak in others.\u001b[0m\u001b[0;34m\u001b[0m\u001b[0;34m\u001b[0m\u001b[0;34m\u001b[0m\u001b[0m\n\u001b[1;32m     59\u001b[0m     \u001b[0;32mwith\u001b[0m \u001b[0msessions\u001b[0m\u001b[0;34m.\u001b[0m\u001b[0mSession\u001b[0m\u001b[0;34m(\u001b[0m\u001b[0;34m)\u001b[0m \u001b[0;32mas\u001b[0m \u001b[0msession\u001b[0m\u001b[0;34m:\u001b[0m\u001b[0;34m\u001b[0m\u001b[0;34m\u001b[0m\u001b[0m\n\u001b[0;32m---> 60\u001b[0;31m         \u001b[0;32mreturn\u001b[0m \u001b[0msession\u001b[0m\u001b[0;34m.\u001b[0m\u001b[0mrequest\u001b[0m\u001b[0;34m(\u001b[0m\u001b[0mmethod\u001b[0m\u001b[0;34m=\u001b[0m\u001b[0mmethod\u001b[0m\u001b[0;34m,\u001b[0m \u001b[0murl\u001b[0m\u001b[0;34m=\u001b[0m\u001b[0murl\u001b[0m\u001b[0;34m,\u001b[0m \u001b[0;34m**\u001b[0m\u001b[0mkwargs\u001b[0m\u001b[0;34m)\u001b[0m\u001b[0;34m\u001b[0m\u001b[0;34m\u001b[0m\u001b[0m\n\u001b[0m\u001b[1;32m     61\u001b[0m \u001b[0;34m\u001b[0m\u001b[0m\n\u001b[1;32m     62\u001b[0m \u001b[0;34m\u001b[0m\u001b[0m\n",
      "\u001b[0;32m~/anaconda3/envs/intern_5/lib/python3.6/site-packages/requests/sessions.py\u001b[0m in \u001b[0;36mrequest\u001b[0;34m(self, method, url, params, data, headers, cookies, files, auth, timeout, allow_redirects, proxies, hooks, stream, verify, cert, json)\u001b[0m\n\u001b[1;32m    531\u001b[0m         }\n\u001b[1;32m    532\u001b[0m         \u001b[0msend_kwargs\u001b[0m\u001b[0;34m.\u001b[0m\u001b[0mupdate\u001b[0m\u001b[0;34m(\u001b[0m\u001b[0msettings\u001b[0m\u001b[0;34m)\u001b[0m\u001b[0;34m\u001b[0m\u001b[0;34m\u001b[0m\u001b[0m\n\u001b[0;32m--> 533\u001b[0;31m         \u001b[0mresp\u001b[0m \u001b[0;34m=\u001b[0m \u001b[0mself\u001b[0m\u001b[0;34m.\u001b[0m\u001b[0msend\u001b[0m\u001b[0;34m(\u001b[0m\u001b[0mprep\u001b[0m\u001b[0;34m,\u001b[0m \u001b[0;34m**\u001b[0m\u001b[0msend_kwargs\u001b[0m\u001b[0;34m)\u001b[0m\u001b[0;34m\u001b[0m\u001b[0;34m\u001b[0m\u001b[0m\n\u001b[0m\u001b[1;32m    534\u001b[0m \u001b[0;34m\u001b[0m\u001b[0m\n\u001b[1;32m    535\u001b[0m         \u001b[0;32mreturn\u001b[0m \u001b[0mresp\u001b[0m\u001b[0;34m\u001b[0m\u001b[0;34m\u001b[0m\u001b[0m\n",
      "\u001b[0;32m~/anaconda3/envs/intern_5/lib/python3.6/site-packages/requests/sessions.py\u001b[0m in \u001b[0;36msend\u001b[0;34m(self, request, **kwargs)\u001b[0m\n\u001b[1;32m    644\u001b[0m \u001b[0;34m\u001b[0m\u001b[0m\n\u001b[1;32m    645\u001b[0m         \u001b[0;31m# Send the request\u001b[0m\u001b[0;34m\u001b[0m\u001b[0;34m\u001b[0m\u001b[0;34m\u001b[0m\u001b[0m\n\u001b[0;32m--> 646\u001b[0;31m         \u001b[0mr\u001b[0m \u001b[0;34m=\u001b[0m \u001b[0madapter\u001b[0m\u001b[0;34m.\u001b[0m\u001b[0msend\u001b[0m\u001b[0;34m(\u001b[0m\u001b[0mrequest\u001b[0m\u001b[0;34m,\u001b[0m \u001b[0;34m**\u001b[0m\u001b[0mkwargs\u001b[0m\u001b[0;34m)\u001b[0m\u001b[0;34m\u001b[0m\u001b[0;34m\u001b[0m\u001b[0m\n\u001b[0m\u001b[1;32m    647\u001b[0m \u001b[0;34m\u001b[0m\u001b[0m\n\u001b[1;32m    648\u001b[0m         \u001b[0;31m# Total elapsed time of the request (approximately)\u001b[0m\u001b[0;34m\u001b[0m\u001b[0;34m\u001b[0m\u001b[0;34m\u001b[0m\u001b[0m\n",
      "\u001b[0;32m~/anaconda3/envs/intern_5/lib/python3.6/site-packages/requests/adapters.py\u001b[0m in \u001b[0;36msend\u001b[0;34m(self, request, stream, timeout, verify, cert, proxies)\u001b[0m\n\u001b[1;32m    447\u001b[0m                     \u001b[0mdecode_content\u001b[0m\u001b[0;34m=\u001b[0m\u001b[0;32mFalse\u001b[0m\u001b[0;34m,\u001b[0m\u001b[0;34m\u001b[0m\u001b[0;34m\u001b[0m\u001b[0m\n\u001b[1;32m    448\u001b[0m                     \u001b[0mretries\u001b[0m\u001b[0;34m=\u001b[0m\u001b[0mself\u001b[0m\u001b[0;34m.\u001b[0m\u001b[0mmax_retries\u001b[0m\u001b[0;34m,\u001b[0m\u001b[0;34m\u001b[0m\u001b[0;34m\u001b[0m\u001b[0m\n\u001b[0;32m--> 449\u001b[0;31m                     \u001b[0mtimeout\u001b[0m\u001b[0;34m=\u001b[0m\u001b[0mtimeout\u001b[0m\u001b[0;34m\u001b[0m\u001b[0;34m\u001b[0m\u001b[0m\n\u001b[0m\u001b[1;32m    450\u001b[0m                 )\n\u001b[1;32m    451\u001b[0m \u001b[0;34m\u001b[0m\u001b[0m\n",
      "\u001b[0;32m~/anaconda3/envs/intern_5/lib/python3.6/site-packages/urllib3/connectionpool.py\u001b[0m in \u001b[0;36murlopen\u001b[0;34m(self, method, url, body, headers, retries, redirect, assert_same_host, timeout, pool_timeout, release_conn, chunked, body_pos, **response_kw)\u001b[0m\n\u001b[1;32m    601\u001b[0m                                                   \u001b[0mtimeout\u001b[0m\u001b[0;34m=\u001b[0m\u001b[0mtimeout_obj\u001b[0m\u001b[0;34m,\u001b[0m\u001b[0;34m\u001b[0m\u001b[0;34m\u001b[0m\u001b[0m\n\u001b[1;32m    602\u001b[0m                                                   \u001b[0mbody\u001b[0m\u001b[0;34m=\u001b[0m\u001b[0mbody\u001b[0m\u001b[0;34m,\u001b[0m \u001b[0mheaders\u001b[0m\u001b[0;34m=\u001b[0m\u001b[0mheaders\u001b[0m\u001b[0;34m,\u001b[0m\u001b[0;34m\u001b[0m\u001b[0;34m\u001b[0m\u001b[0m\n\u001b[0;32m--> 603\u001b[0;31m                                                   chunked=chunked)\n\u001b[0m\u001b[1;32m    604\u001b[0m \u001b[0;34m\u001b[0m\u001b[0m\n\u001b[1;32m    605\u001b[0m             \u001b[0;31m# If we're going to release the connection in ``finally:``, then\u001b[0m\u001b[0;34m\u001b[0m\u001b[0;34m\u001b[0m\u001b[0;34m\u001b[0m\u001b[0m\n",
      "\u001b[0;32m~/anaconda3/envs/intern_5/lib/python3.6/site-packages/urllib3/connectionpool.py\u001b[0m in \u001b[0;36m_make_request\u001b[0;34m(self, conn, method, url, timeout, chunked, **httplib_request_kw)\u001b[0m\n\u001b[1;32m    381\u001b[0m                 \u001b[0;31m# Python 3\u001b[0m\u001b[0;34m\u001b[0m\u001b[0;34m\u001b[0m\u001b[0;34m\u001b[0m\u001b[0m\n\u001b[1;32m    382\u001b[0m                 \u001b[0;32mtry\u001b[0m\u001b[0;34m:\u001b[0m\u001b[0;34m\u001b[0m\u001b[0;34m\u001b[0m\u001b[0m\n\u001b[0;32m--> 383\u001b[0;31m                     \u001b[0mhttplib_response\u001b[0m \u001b[0;34m=\u001b[0m \u001b[0mconn\u001b[0m\u001b[0;34m.\u001b[0m\u001b[0mgetresponse\u001b[0m\u001b[0;34m(\u001b[0m\u001b[0;34m)\u001b[0m\u001b[0;34m\u001b[0m\u001b[0;34m\u001b[0m\u001b[0m\n\u001b[0m\u001b[1;32m    384\u001b[0m                 \u001b[0;32mexcept\u001b[0m \u001b[0mException\u001b[0m \u001b[0;32mas\u001b[0m \u001b[0me\u001b[0m\u001b[0;34m:\u001b[0m\u001b[0;34m\u001b[0m\u001b[0;34m\u001b[0m\u001b[0m\n\u001b[1;32m    385\u001b[0m                     \u001b[0;31m# Remove the TypeError from the exception chain in Python 3;\u001b[0m\u001b[0;34m\u001b[0m\u001b[0;34m\u001b[0m\u001b[0;34m\u001b[0m\u001b[0m\n",
      "\u001b[0;32m~/anaconda3/envs/intern_5/lib/python3.6/http/client.py\u001b[0m in \u001b[0;36mgetresponse\u001b[0;34m(self)\u001b[0m\n\u001b[1;32m   1329\u001b[0m         \u001b[0;32mtry\u001b[0m\u001b[0;34m:\u001b[0m\u001b[0;34m\u001b[0m\u001b[0;34m\u001b[0m\u001b[0m\n\u001b[1;32m   1330\u001b[0m             \u001b[0;32mtry\u001b[0m\u001b[0;34m:\u001b[0m\u001b[0;34m\u001b[0m\u001b[0;34m\u001b[0m\u001b[0m\n\u001b[0;32m-> 1331\u001b[0;31m                 \u001b[0mresponse\u001b[0m\u001b[0;34m.\u001b[0m\u001b[0mbegin\u001b[0m\u001b[0;34m(\u001b[0m\u001b[0;34m)\u001b[0m\u001b[0;34m\u001b[0m\u001b[0;34m\u001b[0m\u001b[0m\n\u001b[0m\u001b[1;32m   1332\u001b[0m             \u001b[0;32mexcept\u001b[0m \u001b[0mConnectionError\u001b[0m\u001b[0;34m:\u001b[0m\u001b[0;34m\u001b[0m\u001b[0;34m\u001b[0m\u001b[0m\n\u001b[1;32m   1333\u001b[0m                 \u001b[0mself\u001b[0m\u001b[0;34m.\u001b[0m\u001b[0mclose\u001b[0m\u001b[0;34m(\u001b[0m\u001b[0;34m)\u001b[0m\u001b[0;34m\u001b[0m\u001b[0;34m\u001b[0m\u001b[0m\n",
      "\u001b[0;32m~/anaconda3/envs/intern_5/lib/python3.6/http/client.py\u001b[0m in \u001b[0;36mbegin\u001b[0;34m(self)\u001b[0m\n\u001b[1;32m    295\u001b[0m         \u001b[0;31m# read until we get a non-100 response\u001b[0m\u001b[0;34m\u001b[0m\u001b[0;34m\u001b[0m\u001b[0;34m\u001b[0m\u001b[0m\n\u001b[1;32m    296\u001b[0m         \u001b[0;32mwhile\u001b[0m \u001b[0;32mTrue\u001b[0m\u001b[0;34m:\u001b[0m\u001b[0;34m\u001b[0m\u001b[0;34m\u001b[0m\u001b[0m\n\u001b[0;32m--> 297\u001b[0;31m             \u001b[0mversion\u001b[0m\u001b[0;34m,\u001b[0m \u001b[0mstatus\u001b[0m\u001b[0;34m,\u001b[0m \u001b[0mreason\u001b[0m \u001b[0;34m=\u001b[0m \u001b[0mself\u001b[0m\u001b[0;34m.\u001b[0m\u001b[0m_read_status\u001b[0m\u001b[0;34m(\u001b[0m\u001b[0;34m)\u001b[0m\u001b[0;34m\u001b[0m\u001b[0;34m\u001b[0m\u001b[0m\n\u001b[0m\u001b[1;32m    298\u001b[0m             \u001b[0;32mif\u001b[0m \u001b[0mstatus\u001b[0m \u001b[0;34m!=\u001b[0m \u001b[0mCONTINUE\u001b[0m\u001b[0;34m:\u001b[0m\u001b[0;34m\u001b[0m\u001b[0;34m\u001b[0m\u001b[0m\n\u001b[1;32m    299\u001b[0m                 \u001b[0;32mbreak\u001b[0m\u001b[0;34m\u001b[0m\u001b[0;34m\u001b[0m\u001b[0m\n",
      "\u001b[0;32m~/anaconda3/envs/intern_5/lib/python3.6/http/client.py\u001b[0m in \u001b[0;36m_read_status\u001b[0;34m(self)\u001b[0m\n\u001b[1;32m    256\u001b[0m \u001b[0;34m\u001b[0m\u001b[0m\n\u001b[1;32m    257\u001b[0m     \u001b[0;32mdef\u001b[0m \u001b[0m_read_status\u001b[0m\u001b[0;34m(\u001b[0m\u001b[0mself\u001b[0m\u001b[0;34m)\u001b[0m\u001b[0;34m:\u001b[0m\u001b[0;34m\u001b[0m\u001b[0;34m\u001b[0m\u001b[0m\n\u001b[0;32m--> 258\u001b[0;31m         \u001b[0mline\u001b[0m \u001b[0;34m=\u001b[0m \u001b[0mstr\u001b[0m\u001b[0;34m(\u001b[0m\u001b[0mself\u001b[0m\u001b[0;34m.\u001b[0m\u001b[0mfp\u001b[0m\u001b[0;34m.\u001b[0m\u001b[0mreadline\u001b[0m\u001b[0;34m(\u001b[0m\u001b[0m_MAXLINE\u001b[0m \u001b[0;34m+\u001b[0m \u001b[0;36m1\u001b[0m\u001b[0;34m)\u001b[0m\u001b[0;34m,\u001b[0m \u001b[0;34m\"iso-8859-1\"\u001b[0m\u001b[0;34m)\u001b[0m\u001b[0;34m\u001b[0m\u001b[0;34m\u001b[0m\u001b[0m\n\u001b[0m\u001b[1;32m    259\u001b[0m         \u001b[0;32mif\u001b[0m \u001b[0mlen\u001b[0m\u001b[0;34m(\u001b[0m\u001b[0mline\u001b[0m\u001b[0;34m)\u001b[0m \u001b[0;34m>\u001b[0m \u001b[0m_MAXLINE\u001b[0m\u001b[0;34m:\u001b[0m\u001b[0;34m\u001b[0m\u001b[0;34m\u001b[0m\u001b[0m\n\u001b[1;32m    260\u001b[0m             \u001b[0;32mraise\u001b[0m \u001b[0mLineTooLong\u001b[0m\u001b[0;34m(\u001b[0m\u001b[0;34m\"status line\"\u001b[0m\u001b[0;34m)\u001b[0m\u001b[0;34m\u001b[0m\u001b[0;34m\u001b[0m\u001b[0m\n",
      "\u001b[0;32m~/anaconda3/envs/intern_5/lib/python3.6/socket.py\u001b[0m in \u001b[0;36mreadinto\u001b[0;34m(self, b)\u001b[0m\n\u001b[1;32m    584\u001b[0m         \u001b[0;32mwhile\u001b[0m \u001b[0;32mTrue\u001b[0m\u001b[0;34m:\u001b[0m\u001b[0;34m\u001b[0m\u001b[0;34m\u001b[0m\u001b[0m\n\u001b[1;32m    585\u001b[0m             \u001b[0;32mtry\u001b[0m\u001b[0;34m:\u001b[0m\u001b[0;34m\u001b[0m\u001b[0;34m\u001b[0m\u001b[0m\n\u001b[0;32m--> 586\u001b[0;31m                 \u001b[0;32mreturn\u001b[0m \u001b[0mself\u001b[0m\u001b[0;34m.\u001b[0m\u001b[0m_sock\u001b[0m\u001b[0;34m.\u001b[0m\u001b[0mrecv_into\u001b[0m\u001b[0;34m(\u001b[0m\u001b[0mb\u001b[0m\u001b[0;34m)\u001b[0m\u001b[0;34m\u001b[0m\u001b[0;34m\u001b[0m\u001b[0m\n\u001b[0m\u001b[1;32m    587\u001b[0m             \u001b[0;32mexcept\u001b[0m \u001b[0mtimeout\u001b[0m\u001b[0;34m:\u001b[0m\u001b[0;34m\u001b[0m\u001b[0;34m\u001b[0m\u001b[0m\n\u001b[1;32m    588\u001b[0m                 \u001b[0mself\u001b[0m\u001b[0;34m.\u001b[0m\u001b[0m_timeout_occurred\u001b[0m \u001b[0;34m=\u001b[0m \u001b[0;32mTrue\u001b[0m\u001b[0;34m\u001b[0m\u001b[0;34m\u001b[0m\u001b[0m\n",
      "\u001b[0;31mKeyboardInterrupt\u001b[0m: "
     ]
    }
   ],
   "source": [
    "# 取得食品、飲料及菸草製品批發業成功版本，法2這個則沒有使用次數限制\n",
    "# 取102~104\n",
    "\n",
    "LOGIN_URL = \"http://dmz21.moea.gov.tw/GA/template/changeData\"\n",
    "payload = {\n",
    "'url': 'b02',\n",
    "'selectMultipleMenuItemGoods': 'all',\n",
    "'selectMultipleMenuItemArea': 'all',\n",
    "'module4Limit': 15,\n",
    "'end': 10401,\n",
    "'limit': 10,\n",
    "'type': 'm1',\n",
    "'module5dimensionCode1': 'X10D454'\n",
    "}\n",
    "r = requests.post(LOGIN_URL,params = payload)\n",
    "soup = BeautifulSoup(r.text, 'html.parser')"
   ]
  },
  {
   "cell_type": "code",
   "execution_count": 13,
   "metadata": {
    "ExecuteTime": {
     "end_time": "2019-08-28T07:45:43.172675Z",
     "start_time": "2019-08-28T07:39:57.653939Z"
    }
   },
   "outputs": [
    {
     "ename": "KeyboardInterrupt",
     "evalue": "",
     "output_type": "error",
     "traceback": [
      "\u001b[0;31m---------------------------------------------------------------------------\u001b[0m",
      "\u001b[0;31mTypeError\u001b[0m                                 Traceback (most recent call last)",
      "\u001b[0;32m~/anaconda3/envs/intern_5/lib/python3.6/site-packages/urllib3/connectionpool.py\u001b[0m in \u001b[0;36m_make_request\u001b[0;34m(self, conn, method, url, timeout, chunked, **httplib_request_kw)\u001b[0m\n\u001b[1;32m    378\u001b[0m                 \u001b[0;31m# Python 2.7, use buffering of HTTP responses\u001b[0m\u001b[0;34m\u001b[0m\u001b[0;34m\u001b[0m\u001b[0;34m\u001b[0m\u001b[0m\n\u001b[0;32m--> 379\u001b[0;31m                 \u001b[0mhttplib_response\u001b[0m \u001b[0;34m=\u001b[0m \u001b[0mconn\u001b[0m\u001b[0;34m.\u001b[0m\u001b[0mgetresponse\u001b[0m\u001b[0;34m(\u001b[0m\u001b[0mbuffering\u001b[0m\u001b[0;34m=\u001b[0m\u001b[0;32mTrue\u001b[0m\u001b[0;34m)\u001b[0m\u001b[0;34m\u001b[0m\u001b[0;34m\u001b[0m\u001b[0m\n\u001b[0m\u001b[1;32m    380\u001b[0m             \u001b[0;32mexcept\u001b[0m \u001b[0mTypeError\u001b[0m\u001b[0;34m:\u001b[0m\u001b[0;34m\u001b[0m\u001b[0;34m\u001b[0m\u001b[0m\n",
      "\u001b[0;31mTypeError\u001b[0m: getresponse() got an unexpected keyword argument 'buffering'",
      "\nDuring handling of the above exception, another exception occurred:\n",
      "\u001b[0;31mKeyboardInterrupt\u001b[0m                         Traceback (most recent call last)",
      "\u001b[0;32m<ipython-input-13-b84ece7476eb>\u001b[0m in \u001b[0;36m<module>\u001b[0;34m\u001b[0m\n\u001b[1;32m     11\u001b[0m \u001b[0;34m'module5dimensionCode1'\u001b[0m\u001b[0;34m:\u001b[0m \u001b[0;34m'X10D454'\u001b[0m\u001b[0;34m\u001b[0m\u001b[0;34m\u001b[0m\u001b[0m\n\u001b[1;32m     12\u001b[0m }\n\u001b[0;32m---> 13\u001b[0;31m \u001b[0mr\u001b[0m \u001b[0;34m=\u001b[0m \u001b[0mrequests\u001b[0m\u001b[0;34m.\u001b[0m\u001b[0mpost\u001b[0m\u001b[0;34m(\u001b[0m\u001b[0mLOGIN_URL\u001b[0m\u001b[0;34m,\u001b[0m\u001b[0mparams\u001b[0m \u001b[0;34m=\u001b[0m \u001b[0mpayload\u001b[0m\u001b[0;34m)\u001b[0m\u001b[0;34m\u001b[0m\u001b[0;34m\u001b[0m\u001b[0m\n\u001b[0m\u001b[1;32m     14\u001b[0m \u001b[0msoup\u001b[0m \u001b[0;34m=\u001b[0m \u001b[0mBeautifulSoup\u001b[0m\u001b[0;34m(\u001b[0m\u001b[0mr\u001b[0m\u001b[0;34m.\u001b[0m\u001b[0mtext\u001b[0m\u001b[0;34m,\u001b[0m \u001b[0;34m'html.parser'\u001b[0m\u001b[0;34m)\u001b[0m\u001b[0;34m\u001b[0m\u001b[0;34m\u001b[0m\u001b[0m\n",
      "\u001b[0;32m~/anaconda3/envs/intern_5/lib/python3.6/site-packages/requests/api.py\u001b[0m in \u001b[0;36mpost\u001b[0;34m(url, data, json, **kwargs)\u001b[0m\n\u001b[1;32m    114\u001b[0m     \"\"\"\n\u001b[1;32m    115\u001b[0m \u001b[0;34m\u001b[0m\u001b[0m\n\u001b[0;32m--> 116\u001b[0;31m     \u001b[0;32mreturn\u001b[0m \u001b[0mrequest\u001b[0m\u001b[0;34m(\u001b[0m\u001b[0;34m'post'\u001b[0m\u001b[0;34m,\u001b[0m \u001b[0murl\u001b[0m\u001b[0;34m,\u001b[0m \u001b[0mdata\u001b[0m\u001b[0;34m=\u001b[0m\u001b[0mdata\u001b[0m\u001b[0;34m,\u001b[0m \u001b[0mjson\u001b[0m\u001b[0;34m=\u001b[0m\u001b[0mjson\u001b[0m\u001b[0;34m,\u001b[0m \u001b[0;34m**\u001b[0m\u001b[0mkwargs\u001b[0m\u001b[0;34m)\u001b[0m\u001b[0;34m\u001b[0m\u001b[0;34m\u001b[0m\u001b[0m\n\u001b[0m\u001b[1;32m    117\u001b[0m \u001b[0;34m\u001b[0m\u001b[0m\n\u001b[1;32m    118\u001b[0m \u001b[0;34m\u001b[0m\u001b[0m\n",
      "\u001b[0;32m~/anaconda3/envs/intern_5/lib/python3.6/site-packages/requests/api.py\u001b[0m in \u001b[0;36mrequest\u001b[0;34m(method, url, **kwargs)\u001b[0m\n\u001b[1;32m     58\u001b[0m     \u001b[0;31m# cases, and look like a memory leak in others.\u001b[0m\u001b[0;34m\u001b[0m\u001b[0;34m\u001b[0m\u001b[0;34m\u001b[0m\u001b[0m\n\u001b[1;32m     59\u001b[0m     \u001b[0;32mwith\u001b[0m \u001b[0msessions\u001b[0m\u001b[0;34m.\u001b[0m\u001b[0mSession\u001b[0m\u001b[0;34m(\u001b[0m\u001b[0;34m)\u001b[0m \u001b[0;32mas\u001b[0m \u001b[0msession\u001b[0m\u001b[0;34m:\u001b[0m\u001b[0;34m\u001b[0m\u001b[0;34m\u001b[0m\u001b[0m\n\u001b[0;32m---> 60\u001b[0;31m         \u001b[0;32mreturn\u001b[0m \u001b[0msession\u001b[0m\u001b[0;34m.\u001b[0m\u001b[0mrequest\u001b[0m\u001b[0;34m(\u001b[0m\u001b[0mmethod\u001b[0m\u001b[0;34m=\u001b[0m\u001b[0mmethod\u001b[0m\u001b[0;34m,\u001b[0m \u001b[0murl\u001b[0m\u001b[0;34m=\u001b[0m\u001b[0murl\u001b[0m\u001b[0;34m,\u001b[0m \u001b[0;34m**\u001b[0m\u001b[0mkwargs\u001b[0m\u001b[0;34m)\u001b[0m\u001b[0;34m\u001b[0m\u001b[0;34m\u001b[0m\u001b[0m\n\u001b[0m\u001b[1;32m     61\u001b[0m \u001b[0;34m\u001b[0m\u001b[0m\n\u001b[1;32m     62\u001b[0m \u001b[0;34m\u001b[0m\u001b[0m\n",
      "\u001b[0;32m~/anaconda3/envs/intern_5/lib/python3.6/site-packages/requests/sessions.py\u001b[0m in \u001b[0;36mrequest\u001b[0;34m(self, method, url, params, data, headers, cookies, files, auth, timeout, allow_redirects, proxies, hooks, stream, verify, cert, json)\u001b[0m\n\u001b[1;32m    531\u001b[0m         }\n\u001b[1;32m    532\u001b[0m         \u001b[0msend_kwargs\u001b[0m\u001b[0;34m.\u001b[0m\u001b[0mupdate\u001b[0m\u001b[0;34m(\u001b[0m\u001b[0msettings\u001b[0m\u001b[0;34m)\u001b[0m\u001b[0;34m\u001b[0m\u001b[0;34m\u001b[0m\u001b[0m\n\u001b[0;32m--> 533\u001b[0;31m         \u001b[0mresp\u001b[0m \u001b[0;34m=\u001b[0m \u001b[0mself\u001b[0m\u001b[0;34m.\u001b[0m\u001b[0msend\u001b[0m\u001b[0;34m(\u001b[0m\u001b[0mprep\u001b[0m\u001b[0;34m,\u001b[0m \u001b[0;34m**\u001b[0m\u001b[0msend_kwargs\u001b[0m\u001b[0;34m)\u001b[0m\u001b[0;34m\u001b[0m\u001b[0;34m\u001b[0m\u001b[0m\n\u001b[0m\u001b[1;32m    534\u001b[0m \u001b[0;34m\u001b[0m\u001b[0m\n\u001b[1;32m    535\u001b[0m         \u001b[0;32mreturn\u001b[0m \u001b[0mresp\u001b[0m\u001b[0;34m\u001b[0m\u001b[0;34m\u001b[0m\u001b[0m\n",
      "\u001b[0;32m~/anaconda3/envs/intern_5/lib/python3.6/site-packages/requests/sessions.py\u001b[0m in \u001b[0;36msend\u001b[0;34m(self, request, **kwargs)\u001b[0m\n\u001b[1;32m    644\u001b[0m \u001b[0;34m\u001b[0m\u001b[0m\n\u001b[1;32m    645\u001b[0m         \u001b[0;31m# Send the request\u001b[0m\u001b[0;34m\u001b[0m\u001b[0;34m\u001b[0m\u001b[0;34m\u001b[0m\u001b[0m\n\u001b[0;32m--> 646\u001b[0;31m         \u001b[0mr\u001b[0m \u001b[0;34m=\u001b[0m \u001b[0madapter\u001b[0m\u001b[0;34m.\u001b[0m\u001b[0msend\u001b[0m\u001b[0;34m(\u001b[0m\u001b[0mrequest\u001b[0m\u001b[0;34m,\u001b[0m \u001b[0;34m**\u001b[0m\u001b[0mkwargs\u001b[0m\u001b[0;34m)\u001b[0m\u001b[0;34m\u001b[0m\u001b[0;34m\u001b[0m\u001b[0m\n\u001b[0m\u001b[1;32m    647\u001b[0m \u001b[0;34m\u001b[0m\u001b[0m\n\u001b[1;32m    648\u001b[0m         \u001b[0;31m# Total elapsed time of the request (approximately)\u001b[0m\u001b[0;34m\u001b[0m\u001b[0;34m\u001b[0m\u001b[0;34m\u001b[0m\u001b[0m\n",
      "\u001b[0;32m~/anaconda3/envs/intern_5/lib/python3.6/site-packages/requests/adapters.py\u001b[0m in \u001b[0;36msend\u001b[0;34m(self, request, stream, timeout, verify, cert, proxies)\u001b[0m\n\u001b[1;32m    447\u001b[0m                     \u001b[0mdecode_content\u001b[0m\u001b[0;34m=\u001b[0m\u001b[0;32mFalse\u001b[0m\u001b[0;34m,\u001b[0m\u001b[0;34m\u001b[0m\u001b[0;34m\u001b[0m\u001b[0m\n\u001b[1;32m    448\u001b[0m                     \u001b[0mretries\u001b[0m\u001b[0;34m=\u001b[0m\u001b[0mself\u001b[0m\u001b[0;34m.\u001b[0m\u001b[0mmax_retries\u001b[0m\u001b[0;34m,\u001b[0m\u001b[0;34m\u001b[0m\u001b[0;34m\u001b[0m\u001b[0m\n\u001b[0;32m--> 449\u001b[0;31m                     \u001b[0mtimeout\u001b[0m\u001b[0;34m=\u001b[0m\u001b[0mtimeout\u001b[0m\u001b[0;34m\u001b[0m\u001b[0;34m\u001b[0m\u001b[0m\n\u001b[0m\u001b[1;32m    450\u001b[0m                 )\n\u001b[1;32m    451\u001b[0m \u001b[0;34m\u001b[0m\u001b[0m\n",
      "\u001b[0;32m~/anaconda3/envs/intern_5/lib/python3.6/site-packages/urllib3/connectionpool.py\u001b[0m in \u001b[0;36murlopen\u001b[0;34m(self, method, url, body, headers, retries, redirect, assert_same_host, timeout, pool_timeout, release_conn, chunked, body_pos, **response_kw)\u001b[0m\n\u001b[1;32m    601\u001b[0m                                                   \u001b[0mtimeout\u001b[0m\u001b[0;34m=\u001b[0m\u001b[0mtimeout_obj\u001b[0m\u001b[0;34m,\u001b[0m\u001b[0;34m\u001b[0m\u001b[0;34m\u001b[0m\u001b[0m\n\u001b[1;32m    602\u001b[0m                                                   \u001b[0mbody\u001b[0m\u001b[0;34m=\u001b[0m\u001b[0mbody\u001b[0m\u001b[0;34m,\u001b[0m \u001b[0mheaders\u001b[0m\u001b[0;34m=\u001b[0m\u001b[0mheaders\u001b[0m\u001b[0;34m,\u001b[0m\u001b[0;34m\u001b[0m\u001b[0;34m\u001b[0m\u001b[0m\n\u001b[0;32m--> 603\u001b[0;31m                                                   chunked=chunked)\n\u001b[0m\u001b[1;32m    604\u001b[0m \u001b[0;34m\u001b[0m\u001b[0m\n\u001b[1;32m    605\u001b[0m             \u001b[0;31m# If we're going to release the connection in ``finally:``, then\u001b[0m\u001b[0;34m\u001b[0m\u001b[0;34m\u001b[0m\u001b[0;34m\u001b[0m\u001b[0m\n",
      "\u001b[0;32m~/anaconda3/envs/intern_5/lib/python3.6/site-packages/urllib3/connectionpool.py\u001b[0m in \u001b[0;36m_make_request\u001b[0;34m(self, conn, method, url, timeout, chunked, **httplib_request_kw)\u001b[0m\n\u001b[1;32m    381\u001b[0m                 \u001b[0;31m# Python 3\u001b[0m\u001b[0;34m\u001b[0m\u001b[0;34m\u001b[0m\u001b[0;34m\u001b[0m\u001b[0m\n\u001b[1;32m    382\u001b[0m                 \u001b[0;32mtry\u001b[0m\u001b[0;34m:\u001b[0m\u001b[0;34m\u001b[0m\u001b[0;34m\u001b[0m\u001b[0m\n\u001b[0;32m--> 383\u001b[0;31m                     \u001b[0mhttplib_response\u001b[0m \u001b[0;34m=\u001b[0m \u001b[0mconn\u001b[0m\u001b[0;34m.\u001b[0m\u001b[0mgetresponse\u001b[0m\u001b[0;34m(\u001b[0m\u001b[0;34m)\u001b[0m\u001b[0;34m\u001b[0m\u001b[0;34m\u001b[0m\u001b[0m\n\u001b[0m\u001b[1;32m    384\u001b[0m                 \u001b[0;32mexcept\u001b[0m \u001b[0mException\u001b[0m \u001b[0;32mas\u001b[0m \u001b[0me\u001b[0m\u001b[0;34m:\u001b[0m\u001b[0;34m\u001b[0m\u001b[0;34m\u001b[0m\u001b[0m\n\u001b[1;32m    385\u001b[0m                     \u001b[0;31m# Remove the TypeError from the exception chain in Python 3;\u001b[0m\u001b[0;34m\u001b[0m\u001b[0;34m\u001b[0m\u001b[0;34m\u001b[0m\u001b[0m\n",
      "\u001b[0;32m~/anaconda3/envs/intern_5/lib/python3.6/http/client.py\u001b[0m in \u001b[0;36mgetresponse\u001b[0;34m(self)\u001b[0m\n\u001b[1;32m   1329\u001b[0m         \u001b[0;32mtry\u001b[0m\u001b[0;34m:\u001b[0m\u001b[0;34m\u001b[0m\u001b[0;34m\u001b[0m\u001b[0m\n\u001b[1;32m   1330\u001b[0m             \u001b[0;32mtry\u001b[0m\u001b[0;34m:\u001b[0m\u001b[0;34m\u001b[0m\u001b[0;34m\u001b[0m\u001b[0m\n\u001b[0;32m-> 1331\u001b[0;31m                 \u001b[0mresponse\u001b[0m\u001b[0;34m.\u001b[0m\u001b[0mbegin\u001b[0m\u001b[0;34m(\u001b[0m\u001b[0;34m)\u001b[0m\u001b[0;34m\u001b[0m\u001b[0;34m\u001b[0m\u001b[0m\n\u001b[0m\u001b[1;32m   1332\u001b[0m             \u001b[0;32mexcept\u001b[0m \u001b[0mConnectionError\u001b[0m\u001b[0;34m:\u001b[0m\u001b[0;34m\u001b[0m\u001b[0;34m\u001b[0m\u001b[0m\n\u001b[1;32m   1333\u001b[0m                 \u001b[0mself\u001b[0m\u001b[0;34m.\u001b[0m\u001b[0mclose\u001b[0m\u001b[0;34m(\u001b[0m\u001b[0;34m)\u001b[0m\u001b[0;34m\u001b[0m\u001b[0;34m\u001b[0m\u001b[0m\n",
      "\u001b[0;32m~/anaconda3/envs/intern_5/lib/python3.6/http/client.py\u001b[0m in \u001b[0;36mbegin\u001b[0;34m(self)\u001b[0m\n\u001b[1;32m    295\u001b[0m         \u001b[0;31m# read until we get a non-100 response\u001b[0m\u001b[0;34m\u001b[0m\u001b[0;34m\u001b[0m\u001b[0;34m\u001b[0m\u001b[0m\n\u001b[1;32m    296\u001b[0m         \u001b[0;32mwhile\u001b[0m \u001b[0;32mTrue\u001b[0m\u001b[0;34m:\u001b[0m\u001b[0;34m\u001b[0m\u001b[0;34m\u001b[0m\u001b[0m\n\u001b[0;32m--> 297\u001b[0;31m             \u001b[0mversion\u001b[0m\u001b[0;34m,\u001b[0m \u001b[0mstatus\u001b[0m\u001b[0;34m,\u001b[0m \u001b[0mreason\u001b[0m \u001b[0;34m=\u001b[0m \u001b[0mself\u001b[0m\u001b[0;34m.\u001b[0m\u001b[0m_read_status\u001b[0m\u001b[0;34m(\u001b[0m\u001b[0;34m)\u001b[0m\u001b[0;34m\u001b[0m\u001b[0;34m\u001b[0m\u001b[0m\n\u001b[0m\u001b[1;32m    298\u001b[0m             \u001b[0;32mif\u001b[0m \u001b[0mstatus\u001b[0m \u001b[0;34m!=\u001b[0m \u001b[0mCONTINUE\u001b[0m\u001b[0;34m:\u001b[0m\u001b[0;34m\u001b[0m\u001b[0;34m\u001b[0m\u001b[0m\n\u001b[1;32m    299\u001b[0m                 \u001b[0;32mbreak\u001b[0m\u001b[0;34m\u001b[0m\u001b[0;34m\u001b[0m\u001b[0m\n",
      "\u001b[0;32m~/anaconda3/envs/intern_5/lib/python3.6/http/client.py\u001b[0m in \u001b[0;36m_read_status\u001b[0;34m(self)\u001b[0m\n\u001b[1;32m    256\u001b[0m \u001b[0;34m\u001b[0m\u001b[0m\n\u001b[1;32m    257\u001b[0m     \u001b[0;32mdef\u001b[0m \u001b[0m_read_status\u001b[0m\u001b[0;34m(\u001b[0m\u001b[0mself\u001b[0m\u001b[0;34m)\u001b[0m\u001b[0;34m:\u001b[0m\u001b[0;34m\u001b[0m\u001b[0;34m\u001b[0m\u001b[0m\n\u001b[0;32m--> 258\u001b[0;31m         \u001b[0mline\u001b[0m \u001b[0;34m=\u001b[0m \u001b[0mstr\u001b[0m\u001b[0;34m(\u001b[0m\u001b[0mself\u001b[0m\u001b[0;34m.\u001b[0m\u001b[0mfp\u001b[0m\u001b[0;34m.\u001b[0m\u001b[0mreadline\u001b[0m\u001b[0;34m(\u001b[0m\u001b[0m_MAXLINE\u001b[0m \u001b[0;34m+\u001b[0m \u001b[0;36m1\u001b[0m\u001b[0;34m)\u001b[0m\u001b[0;34m,\u001b[0m \u001b[0;34m\"iso-8859-1\"\u001b[0m\u001b[0;34m)\u001b[0m\u001b[0;34m\u001b[0m\u001b[0;34m\u001b[0m\u001b[0m\n\u001b[0m\u001b[1;32m    259\u001b[0m         \u001b[0;32mif\u001b[0m \u001b[0mlen\u001b[0m\u001b[0;34m(\u001b[0m\u001b[0mline\u001b[0m\u001b[0;34m)\u001b[0m \u001b[0;34m>\u001b[0m \u001b[0m_MAXLINE\u001b[0m\u001b[0;34m:\u001b[0m\u001b[0;34m\u001b[0m\u001b[0;34m\u001b[0m\u001b[0m\n\u001b[1;32m    260\u001b[0m             \u001b[0;32mraise\u001b[0m \u001b[0mLineTooLong\u001b[0m\u001b[0;34m(\u001b[0m\u001b[0;34m\"status line\"\u001b[0m\u001b[0;34m)\u001b[0m\u001b[0;34m\u001b[0m\u001b[0;34m\u001b[0m\u001b[0m\n",
      "\u001b[0;32m~/anaconda3/envs/intern_5/lib/python3.6/socket.py\u001b[0m in \u001b[0;36mreadinto\u001b[0;34m(self, b)\u001b[0m\n\u001b[1;32m    584\u001b[0m         \u001b[0;32mwhile\u001b[0m \u001b[0;32mTrue\u001b[0m\u001b[0;34m:\u001b[0m\u001b[0;34m\u001b[0m\u001b[0;34m\u001b[0m\u001b[0m\n\u001b[1;32m    585\u001b[0m             \u001b[0;32mtry\u001b[0m\u001b[0;34m:\u001b[0m\u001b[0;34m\u001b[0m\u001b[0;34m\u001b[0m\u001b[0m\n\u001b[0;32m--> 586\u001b[0;31m                 \u001b[0;32mreturn\u001b[0m \u001b[0mself\u001b[0m\u001b[0;34m.\u001b[0m\u001b[0m_sock\u001b[0m\u001b[0;34m.\u001b[0m\u001b[0mrecv_into\u001b[0m\u001b[0;34m(\u001b[0m\u001b[0mb\u001b[0m\u001b[0;34m)\u001b[0m\u001b[0;34m\u001b[0m\u001b[0;34m\u001b[0m\u001b[0m\n\u001b[0m\u001b[1;32m    587\u001b[0m             \u001b[0;32mexcept\u001b[0m \u001b[0mtimeout\u001b[0m\u001b[0;34m:\u001b[0m\u001b[0;34m\u001b[0m\u001b[0;34m\u001b[0m\u001b[0m\n\u001b[1;32m    588\u001b[0m                 \u001b[0mself\u001b[0m\u001b[0;34m.\u001b[0m\u001b[0m_timeout_occurred\u001b[0m \u001b[0;34m=\u001b[0m \u001b[0;32mTrue\u001b[0m\u001b[0;34m\u001b[0m\u001b[0;34m\u001b[0m\u001b[0m\n",
      "\u001b[0;31mKeyboardInterrupt\u001b[0m: "
     ]
    }
   ],
   "source": [
    "# 取105~107\n",
    "LOGIN_URL = \"http://dmz21.moea.gov.tw/GA/template/changeData\"\n",
    "payload = {\n",
    "'url': 'b02',\n",
    "'selectMultipleMenuItemGoods': 'all',\n",
    "'selectMultipleMenuItemArea': 'all',\n",
    "'module4Limit': 15,\n",
    "'end': 10701,\n",
    "'limit': 10,\n",
    "'type': 'm1',\n",
    "'module5dimensionCode1': 'X10D454'\n",
    "}\n",
    "print()\n",
    "r = requests.post(LOGIN_URL,params = payload)\n",
    "soup = BeautifulSoup(r.text, 'html.parser')"
   ]
  },
  {
   "cell_type": "code",
   "execution_count": null,
   "metadata": {},
   "outputs": [],
   "source": [
    "monthList = []\n",
    "taiwanWholeSaleOfFoodIndexList = []\n",
    "for i in soup.select('x')[:36]:\n",
    "    i = str(i).lstrip(\"<x>\")\n",
    "    i = i.rstrip(\"</x>\")\n",
    "    monthList.append(i)\n",
    "for i in soup.select('y')[:36]:\n",
    "    i = str(i).lstrip(\"<y>\")\n",
    "    i = i.rstrip(\"</y>\")\n",
    "    taiwanWholeSaleOfFoodIndexList.append(i)\n",
    "print(monthList)\n",
    "print(taiwanWholeSaleOfFoodIndexList)"
   ]
  },
  {
   "cell_type": "markdown",
   "metadata": {},
   "source": [
    "## 外部變數欄位(歡迎直接取用)"
   ]
  },
  {
   "cell_type": "markdown",
   "metadata": {},
   "source": [
    "### 1. 物價指數"
   ]
  },
  {
   "cell_type": "code",
   "execution_count": null,
   "metadata": {
    "ExecuteTime": {
     "end_time": "2019-07-28T03:02:02.470476Z",
     "start_time": "2019-07-28T03:02:02.457349Z"
    }
   },
   "outputs": [],
   "source": [
    "# 物價指數(2013/9~2013/12)： 99.02, 98.75, 98.04, 97.95\n",
    "\n",
    "# 2014/01~2017/12\n",
    "price_index = [98.25, 97.87, 98.05, 98.71, 98.86, 99.37, 99.34, 99.77, 99.72, 99.79, 98.88, 98.54, 97.33, 97.67, 97.45, 97.9, 98.14, 98.81, 98.71, 99.33, 100.01, 100.1, 99.41, 98.67, 98.12, 100.02, 99.41, 99.73, 99.35, 99.7, 99.93, 99.89, 100.35, 101.8, 101.37, 100.34, 100.32, 99.96, 99.59, 99.83, 99.94, 100.7, 100.7, 100.85, 100.84, 101.46, 101.71, 101.56]\n",
    "print(len(price_index))\n",
    "\n",
    "# 2013/12~2017/11\n",
    "price_index_lag1 = [97.95, 98.25, 97.87, 98.05, 98.71, 98.86, 99.37, 99.34, 99.77, 99.72, 99.79, 98.88, 98.54, 97.33, 97.67, 97.45, 97.9, 98.14, 98.81, 98.71, 99.33, 100.01, 100.1, 99.41, 98.67, 98.12, 100.02, 99.41, 99.73, 99.35, 99.7, 99.93, 99.89, 100.35, 101.8, 101.37, 100.34, 100.32, 99.96, 99.59, 99.83, 99.94, 100.7, 100.7, 100.85, 100.84, 101.46, 101.71]\n",
    "print(len(price_index_lag1))"
   ]
  },
  {
   "cell_type": "markdown",
   "metadata": {},
   "source": [
    "### 2. 食品、飲料及菸草製品零售業營業額"
   ]
  },
  {
   "cell_type": "code",
   "execution_count": null,
   "metadata": {
    "ExecuteTime": {
     "end_time": "2019-07-28T03:02:20.637079Z",
     "start_time": "2019-07-28T03:02:20.623938Z"
    }
   },
   "outputs": [],
   "source": [
    "# 食品、飲料及菸草製品零售業營業額(2013/9~2013/12)： 862, 880, 846, 920\n",
    "\n",
    "# 2014/01~2017/12\n",
    "retail_revenue = [955, 754, 852, 860, 874, 874, 959, 925, 889, 876, 865, 980, 957, 843, 844, 817, 846, 877, 925, 941, 899, 868, 869, 962, 953, 819, 854, 859, 892, 937, 979, 1033, 919, 921, 923, 1004, 1012, 766, 914, 860, 990, 991, 939, 1012, 985, 901, 955, 997]\n",
    "print(len(food_drink_tobacco_product_retail_revenue))\n",
    "\n",
    "# 2013/12~2017/11\n",
    "retail_revenue_lag1 = [920, 955, 754, 852, 860, 874, 874, 959, 925, 889, 876, 865, 980, 957, 843, 844, 817, 846, 877, 925, 941, 899, 868, 869, 962, 953, 819, 854, 859, 892, 937, 979, 1033, 919, 921, 923, 1004, 1012, 766, 914, 860, 990, 991, 939, 1012, 985, 901, 955]\n",
    "print(len(food_drink_tobacco_product_retail_revenue_lag1))"
   ]
  },
  {
   "cell_type": "markdown",
   "metadata": {
    "ExecuteTime": {
     "end_time": "2019-07-15T07:41:11.623716Z",
     "start_time": "2019-07-15T07:41:11.619957Z"
    }
   },
   "source": [
    "### 3. 該月份是否為特定農曆節日的月份以及特定農曆節日的預熱期(前一個月) (2014/01~2017/12)"
   ]
  },
  {
   "cell_type": "code",
   "execution_count": null,
   "metadata": {
    "ExecuteTime": {
     "end_time": "2019-07-21T06:05:15.949719Z",
     "start_time": "2019-07-21T06:05:15.634Z"
    }
   },
   "outputs": [],
   "source": [
    "# 春節 農曆 (暫定除夕、初一~初三，不然每年都不一樣?) 農曆12/30 1/1~1/3\n",
    "is_this_or_next_month_Chinese_New_Year = [1,1,0,0,0,0,0,0,0,0,0,0, 1,1,0,0,0,0,0,0,0,0,0,0, 1,1,0,0,0,0,0,0,0,0,0,1, 1,0,0,0,0,0,0,0,0,0,0,0]\n",
    "# 元宵節 農曆 農曆1月15日\n",
    "is_this_or_next_month_Lantern_Festival = [1,1,0,0,0,0,0,0,0,0,0,0, 0,1,1,0,0,0,0,0,0,0,0,0, 1,1,0,0,0,0,0,0,0,0,0,0, 1,1,0,0,0,0,0,0,0,0,0,0]\n",
    "# 清明節 農曆 (清明不是農曆節日喔，但我還是照做，但不推薦用) 國曆4月3日 or 4日\n",
    "is_this_or_next_month_Tomb_Sweeping_Day = [0,0,1,1,0,0,0,0,0,0,0,0, 0,0,1,1,0,0,0,0,0,0,0,0, 0,0,1,1,0,0,0,0,0,0,0,0, 0,0,1,1,0,0,0,0,0,0,0,0]\n",
    "# 端午節 農曆5月5日\n",
    "is_this_or_next_month_Dragon_Boat_Festival = [0,0,0,0,1,1,0,0,0,0,0,0, 0,0,0,0,1,1,0,0,0,0,0,0, 0,0,0,0,1,1,0,0,0,0,0,0, 0,0,0,1,1,0,0,0,0,0,0,0]\n",
    "# 中元節 農曆7月15日\n",
    "is_this_or_next_month_Hungry_Ghost_Festival = [0,0,0,0,0,0,1,1,0,0,0,0, 0,0,0,0,0,0,1,1,0,0,0,0, 0,0,0,0,0,0,1,1,0,0,0,0, 0,0,0,0,0,0,0,1,1,0,0,0]\n",
    "# 中秋節 農曆8月15日\n",
    "is_this_or_next_month_Moon_Festival = [0,0,0,0,0,0,0,1,1,0,0,0, 0,0,0,0,0,0,0,1,1,0,0,0, 0,0,0,0,0,0,0,1,1,0,0,0, 0,0,0,0,0,0,0,0,1,1,0,0]"
   ]
  },
  {
   "cell_type": "code",
   "execution_count": null,
   "metadata": {
    "ExecuteTime": {
     "end_time": "2019-07-21T06:05:15.954854Z",
     "start_time": "2019-07-21T06:05:15.651Z"
    }
   },
   "outputs": [],
   "source": [
    "# 其他不太會影響食品銷量的農曆節日\n",
    "# 七夕 農曆7月7日\n",
    "# 重陽節 農曆9月9日"
   ]
  },
  {
   "cell_type": "markdown",
   "metadata": {},
   "source": [
    "## 清除指定gpu中的模型"
   ]
  },
  {
   "cell_type": "code",
   "execution_count": null,
   "metadata": {
    "ExecuteTime": {
     "end_time": "2019-07-28T03:37:20.671124Z",
     "start_time": "2019-07-28T03:37:19.623775Z"
    }
   },
   "outputs": [],
   "source": [
    "from numba import cuda\n",
    "cuda.select_device(0)\n",
    "cuda.close()"
   ]
  },
  {
   "cell_type": "code",
   "execution_count": null,
   "metadata": {
    "ExecuteTime": {
     "end_time": "2019-07-28T03:36:41.470824Z",
     "start_time": "2019-07-28T03:36:40.900604Z"
    }
   },
   "outputs": [],
   "source": [
    "import gc\n",
    "from keras import backend as K\n",
    "K.clear_session()\n",
    "gc.collect()\n",
    "#del model"
   ]
  }
 ],
 "metadata": {
  "kernelspec": {
   "display_name": "Python 3",
   "language": "python",
   "name": "python3"
  },
  "language_info": {
   "codemirror_mode": {
    "name": "ipython",
    "version": 3
   },
   "file_extension": ".py",
   "mimetype": "text/x-python",
   "name": "python",
   "nbconvert_exporter": "python",
   "pygments_lexer": "ipython3",
   "version": "3.7.0"
  },
  "varInspector": {
   "cols": {
    "lenName": 16,
    "lenType": 16,
    "lenVar": 40
   },
   "kernels_config": {
    "python": {
     "delete_cmd_postfix": "",
     "delete_cmd_prefix": "del ",
     "library": "var_list.py",
     "varRefreshCmd": "print(var_dic_list())"
    },
    "r": {
     "delete_cmd_postfix": ") ",
     "delete_cmd_prefix": "rm(",
     "library": "var_list.r",
     "varRefreshCmd": "cat(var_dic_list()) "
    }
   },
   "types_to_exclude": [
    "module",
    "function",
    "builtin_function_or_method",
    "instance",
    "_Feature"
   ],
   "window_display": false
  }
 },
 "nbformat": 4,
 "nbformat_minor": 2
}
